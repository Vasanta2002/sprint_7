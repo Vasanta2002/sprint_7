{
  "nbformat": 4,
  "nbformat_minor": 0,
  "metadata": {
    "kernelspec": {
      "display_name": "Python 3",
      "language": "python",
      "name": "python3"
    },
    "language_info": {
      "codemirror_mode": {
        "name": "ipython",
        "version": 3
      },
      "file_extension": ".py",
      "mimetype": "text/x-python",
      "name": "python",
      "nbconvert_exporter": "python",
      "pygments_lexer": "ipython3",
      "version": "3.8.5"
    },
    "colab": {
      "provenance": [],
      "include_colab_link": true
    }
  },
  "cells": [
    {
      "cell_type": "markdown",
      "metadata": {
        "id": "view-in-github",
        "colab_type": "text"
      },
      "source": [
        "<a href=\"https://colab.research.google.com/github/Vasanta2002/sprint_7/blob/main/JDS_SHR_234_guided_project_notes.ipynb\" target=\"_parent\"><img src=\"https://colab.research.google.com/assets/colab-badge.svg\" alt=\"Open In Colab\"/></a>"
      ]
    },
    {
      "cell_type": "markdown",
      "metadata": {
        "id": "y2EGB5vhoZiS"
      },
      "source": [
        "### BloomTech Data Science\n",
        "\n",
        "\n",
        "---\n",
        "\n",
        "# Model Interpretation\n",
        "\n",
        "- Visualize and interpret **partial dependence plots**\n",
        "- Explain individual predictions with **shapley value plots**\n"
      ]
    },
    {
      "cell_type": "code",
      "metadata": {
        "id": "vhEmmM-CoZia"
      },
      "source": [
        "%%capture\n",
        "import sys\n",
        "\n",
        "# If you're on Colab:\n",
        "if 'google.colab' in sys.modules:\n",
        "    DATA_PATH = 'https://raw.githubusercontent.com/bloominstituteoftechnology/DS-Unit-2-Applied-Modeling/master/data/'\n",
        "    !pip install category_encoders==2.*\n",
        "    !pip install pdpbox\n",
        "    !pip install shap\n",
        "\n",
        "# If you're working locally:\n",
        "else:\n",
        "    DATA_PATH = '../data/'"
      ],
      "execution_count": 10,
      "outputs": []
    },
    {
      "cell_type": "code",
      "metadata": {
        "id": "T3V1jRggbkuY"
      },
      "source": [
        "import pandas as pd"
      ],
      "execution_count": 11,
      "outputs": []
    },
    {
      "cell_type": "code",
      "metadata": {
        "id": "MDoCmOMzbmRQ"
      },
      "source": [
        "from sklearn.linear_model import Ridge,LinearRegression\n",
        "from sklearn.ensemble import RandomForestRegressor\n",
        "from xgboost import XGBRegressor"
      ],
      "execution_count": 12,
      "outputs": []
    },
    {
      "cell_type": "code",
      "metadata": {
        "id": "-lsbUUON0H8g"
      },
      "source": [
        "from sklearn.metrics import mean_absolute_error, r2_score\n",
        "import matplotlib.pyplot as plt"
      ],
      "execution_count": 13,
      "outputs": []
    },
    {
      "cell_type": "code",
      "metadata": {
        "id": "WQmLUItQbqWi"
      },
      "source": [
        "from pdpbox.pdp import pdp_isolate, pdp_plot, pdp_interact, pdp_interact_plot\n",
        "import shap"
      ],
      "execution_count": 14,
      "outputs": []
    },
    {
      "cell_type": "code",
      "metadata": {
        "id": "AzEg4J_hbrus"
      },
      "source": [
        "import warnings\n",
        "warnings.filterwarnings(action='ignore', category=FutureWarning, module='xgboost')"
      ],
      "execution_count": 15,
      "outputs": []
    },
    {
      "cell_type": "code",
      "source": [
        "pd.set_option('display.max_columns', 500)"
      ],
      "metadata": {
        "id": "cz0Pu25LJ3vr"
      },
      "execution_count": 16,
      "outputs": []
    },
    {
      "cell_type": "markdown",
      "metadata": {
        "id": "a7QmTDMibg-T"
      },
      "source": [
        "# I. Wrangle Data"
      ]
    },
    {
      "cell_type": "code",
      "metadata": {
        "id": "JQPNZdtTXlye"
      },
      "source": [
        "def wrangle(filepath):\n",
        "\n",
        "  df = pd.read_csv(filepath)\n",
        "\n",
        "  # Set issue date to index\n",
        "  df = pd.read_csv(filepath, parse_dates=['issue_d']).sort_index()\n",
        "  \n",
        "  # subset data to 36-month loans\n",
        "  mask = df['term'].str.strip() == '36 months'\n",
        "  df = df[mask]\n",
        "  df.drop(columns='term', inplace=True)\n",
        "\n",
        "  # Turn `'int_rate'` col into float\n",
        "  df['int_rate'] = df['int_rate'].str.strip(' %').astype(float)\n",
        "\n",
        "    \n",
        "  # Consolidate and OHE loan purpose (`'title'`)\n",
        "  df['title']\n",
        "  \n",
        "  keywords = ['business', 'consolidation|credit', 'home', 'car|vacation|medical|moving']\n",
        "  for col in keywords:\n",
        "    df[col] = (df['title']\n",
        "               .fillna('')\n",
        "               .str.lower()\n",
        "               .str.contains(col, regex=True)\n",
        "               .astype(int))\n",
        "  \n",
        "\n",
        "  columns_to_keep = keywords + ['annual_inc','funded_amnt','int_rate','fico_range_high']\n",
        "  \n",
        "  \n",
        "  df = df[columns_to_keep]\n",
        "  \n",
        "  # Rename columns\n",
        "  # df.rename(columns={'annual_inc': 'annual_income',\n",
        "  #                   'business': 'purpose_business',\n",
        "  #                   'car|vacation|medical|moving': 'purpose_major_purchase',\n",
        "  #                   'consolidation|credit': 'purpose_consolidation',\n",
        "  #                   'fico_range_high': 'credit_score',\n",
        "  #                   'funded_amnt': 'loan_amount',\n",
        "  #                   'home': 'purpose_home_purchase',\n",
        "  #                   'int_rate': 'interest_rate'}, inplace=True)\n",
        "  return df\n",
        "\n",
        "df = wrangle(DATA_PATH+'lending-club/lending-club-subset.csv')"
      ],
      "execution_count": 17,
      "outputs": []
    },
    {
      "cell_type": "code",
      "source": [
        "df.shape"
      ],
      "metadata": {
        "id": "DdxBT70zd7uv",
        "outputId": "a461938e-9f31-4af0-d3d8-6113c840bb95",
        "colab": {
          "base_uri": "https://localhost:8080/"
        }
      },
      "execution_count": 18,
      "outputs": [
        {
          "output_type": "execute_result",
          "data": {
            "text/plain": [
              "(102996, 8)"
            ]
          },
          "metadata": {},
          "execution_count": 18
        }
      ]
    },
    {
      "cell_type": "code",
      "source": [
        "df.head()"
      ],
      "metadata": {
        "id": "QVvgixI-d5w5",
        "outputId": "3b066764-a90e-4de7-b962-53db80914d97",
        "colab": {
          "base_uri": "https://localhost:8080/",
          "height": 206
        }
      },
      "execution_count": 19,
      "outputs": [
        {
          "output_type": "execute_result",
          "data": {
            "text/plain": [
              "   business  consolidation|credit  home  car|vacation|medical|moving  \\\n",
              "0         0                     1     0                            0   \n",
              "1         0                     1     0                            0   \n",
              "2         0                     0     1                            0   \n",
              "3         0                     1     0                            1   \n",
              "4         0                     1     0                            1   \n",
              "\n",
              "   annual_inc  funded_amnt  int_rate  fico_range_high  \n",
              "0     99500.0      20000.0      9.44            694.0  \n",
              "1     79000.0      21600.0      9.80            684.0  \n",
              "2     90100.0      25000.0     17.57            699.0  \n",
              "3    110139.0       5000.0      6.89            719.0  \n",
              "4     50500.0      11850.0     14.16            674.0  "
            ],
            "text/html": [
              "\n",
              "  <div id=\"df-2dea3912-b5d5-4769-971d-41141f84ea75\">\n",
              "    <div class=\"colab-df-container\">\n",
              "      <div>\n",
              "<style scoped>\n",
              "    .dataframe tbody tr th:only-of-type {\n",
              "        vertical-align: middle;\n",
              "    }\n",
              "\n",
              "    .dataframe tbody tr th {\n",
              "        vertical-align: top;\n",
              "    }\n",
              "\n",
              "    .dataframe thead th {\n",
              "        text-align: right;\n",
              "    }\n",
              "</style>\n",
              "<table border=\"1\" class=\"dataframe\">\n",
              "  <thead>\n",
              "    <tr style=\"text-align: right;\">\n",
              "      <th></th>\n",
              "      <th>business</th>\n",
              "      <th>consolidation|credit</th>\n",
              "      <th>home</th>\n",
              "      <th>car|vacation|medical|moving</th>\n",
              "      <th>annual_inc</th>\n",
              "      <th>funded_amnt</th>\n",
              "      <th>int_rate</th>\n",
              "      <th>fico_range_high</th>\n",
              "    </tr>\n",
              "  </thead>\n",
              "  <tbody>\n",
              "    <tr>\n",
              "      <th>0</th>\n",
              "      <td>0</td>\n",
              "      <td>1</td>\n",
              "      <td>0</td>\n",
              "      <td>0</td>\n",
              "      <td>99500.0</td>\n",
              "      <td>20000.0</td>\n",
              "      <td>9.44</td>\n",
              "      <td>694.0</td>\n",
              "    </tr>\n",
              "    <tr>\n",
              "      <th>1</th>\n",
              "      <td>0</td>\n",
              "      <td>1</td>\n",
              "      <td>0</td>\n",
              "      <td>0</td>\n",
              "      <td>79000.0</td>\n",
              "      <td>21600.0</td>\n",
              "      <td>9.80</td>\n",
              "      <td>684.0</td>\n",
              "    </tr>\n",
              "    <tr>\n",
              "      <th>2</th>\n",
              "      <td>0</td>\n",
              "      <td>0</td>\n",
              "      <td>1</td>\n",
              "      <td>0</td>\n",
              "      <td>90100.0</td>\n",
              "      <td>25000.0</td>\n",
              "      <td>17.57</td>\n",
              "      <td>699.0</td>\n",
              "    </tr>\n",
              "    <tr>\n",
              "      <th>3</th>\n",
              "      <td>0</td>\n",
              "      <td>1</td>\n",
              "      <td>0</td>\n",
              "      <td>1</td>\n",
              "      <td>110139.0</td>\n",
              "      <td>5000.0</td>\n",
              "      <td>6.89</td>\n",
              "      <td>719.0</td>\n",
              "    </tr>\n",
              "    <tr>\n",
              "      <th>4</th>\n",
              "      <td>0</td>\n",
              "      <td>1</td>\n",
              "      <td>0</td>\n",
              "      <td>1</td>\n",
              "      <td>50500.0</td>\n",
              "      <td>11850.0</td>\n",
              "      <td>14.16</td>\n",
              "      <td>674.0</td>\n",
              "    </tr>\n",
              "  </tbody>\n",
              "</table>\n",
              "</div>\n",
              "      <button class=\"colab-df-convert\" onclick=\"convertToInteractive('df-2dea3912-b5d5-4769-971d-41141f84ea75')\"\n",
              "              title=\"Convert this dataframe to an interactive table.\"\n",
              "              style=\"display:none;\">\n",
              "        \n",
              "  <svg xmlns=\"http://www.w3.org/2000/svg\" height=\"24px\"viewBox=\"0 0 24 24\"\n",
              "       width=\"24px\">\n",
              "    <path d=\"M0 0h24v24H0V0z\" fill=\"none\"/>\n",
              "    <path d=\"M18.56 5.44l.94 2.06.94-2.06 2.06-.94-2.06-.94-.94-2.06-.94 2.06-2.06.94zm-11 1L8.5 8.5l.94-2.06 2.06-.94-2.06-.94L8.5 2.5l-.94 2.06-2.06.94zm10 10l.94 2.06.94-2.06 2.06-.94-2.06-.94-.94-2.06-.94 2.06-2.06.94z\"/><path d=\"M17.41 7.96l-1.37-1.37c-.4-.4-.92-.59-1.43-.59-.52 0-1.04.2-1.43.59L10.3 9.45l-7.72 7.72c-.78.78-.78 2.05 0 2.83L4 21.41c.39.39.9.59 1.41.59.51 0 1.02-.2 1.41-.59l7.78-7.78 2.81-2.81c.8-.78.8-2.07 0-2.86zM5.41 20L4 18.59l7.72-7.72 1.47 1.35L5.41 20z\"/>\n",
              "  </svg>\n",
              "      </button>\n",
              "      \n",
              "  <style>\n",
              "    .colab-df-container {\n",
              "      display:flex;\n",
              "      flex-wrap:wrap;\n",
              "      gap: 12px;\n",
              "    }\n",
              "\n",
              "    .colab-df-convert {\n",
              "      background-color: #E8F0FE;\n",
              "      border: none;\n",
              "      border-radius: 50%;\n",
              "      cursor: pointer;\n",
              "      display: none;\n",
              "      fill: #1967D2;\n",
              "      height: 32px;\n",
              "      padding: 0 0 0 0;\n",
              "      width: 32px;\n",
              "    }\n",
              "\n",
              "    .colab-df-convert:hover {\n",
              "      background-color: #E2EBFA;\n",
              "      box-shadow: 0px 1px 2px rgba(60, 64, 67, 0.3), 0px 1px 3px 1px rgba(60, 64, 67, 0.15);\n",
              "      fill: #174EA6;\n",
              "    }\n",
              "\n",
              "    [theme=dark] .colab-df-convert {\n",
              "      background-color: #3B4455;\n",
              "      fill: #D2E3FC;\n",
              "    }\n",
              "\n",
              "    [theme=dark] .colab-df-convert:hover {\n",
              "      background-color: #434B5C;\n",
              "      box-shadow: 0px 1px 3px 1px rgba(0, 0, 0, 0.15);\n",
              "      filter: drop-shadow(0px 1px 2px rgba(0, 0, 0, 0.3));\n",
              "      fill: #FFFFFF;\n",
              "    }\n",
              "  </style>\n",
              "\n",
              "      <script>\n",
              "        const buttonEl =\n",
              "          document.querySelector('#df-2dea3912-b5d5-4769-971d-41141f84ea75 button.colab-df-convert');\n",
              "        buttonEl.style.display =\n",
              "          google.colab.kernel.accessAllowed ? 'block' : 'none';\n",
              "\n",
              "        async function convertToInteractive(key) {\n",
              "          const element = document.querySelector('#df-2dea3912-b5d5-4769-971d-41141f84ea75');\n",
              "          const dataTable =\n",
              "            await google.colab.kernel.invokeFunction('convertToInteractive',\n",
              "                                                     [key], {});\n",
              "          if (!dataTable) return;\n",
              "\n",
              "          const docLinkHtml = 'Like what you see? Visit the ' +\n",
              "            '<a target=\"_blank\" href=https://colab.research.google.com/notebooks/data_table.ipynb>data table notebook</a>'\n",
              "            + ' to learn more about interactive tables.';\n",
              "          element.innerHTML = '';\n",
              "          dataTable['output_type'] = 'display_data';\n",
              "          await google.colab.output.renderOutput(dataTable, element);\n",
              "          const docLink = document.createElement('div');\n",
              "          docLink.innerHTML = docLinkHtml;\n",
              "          element.appendChild(docLink);\n",
              "        }\n",
              "      </script>\n",
              "    </div>\n",
              "  </div>\n",
              "  "
            ]
          },
          "metadata": {},
          "execution_count": 19
        }
      ]
    },
    {
      "cell_type": "markdown",
      "metadata": {
        "id": "ayCEM4ZAoZie"
      },
      "source": [
        "# II. Split Data"
      ]
    },
    {
      "cell_type": "code",
      "source": [
        "# Split our data in feature matrix and target vector\n",
        "target = 'int_rate'\n",
        "X = df.drop(columns=target)\n",
        "y = df[target]\n"
      ],
      "metadata": {
        "id": "P6ODJcGu7c9i"
      },
      "execution_count": 21,
      "outputs": []
    },
    {
      "cell_type": "code",
      "source": [
        "# Split data into training, validation, test sets\n",
        "# Because this is datetime data, we'll do a cutoff\n",
        "# sort_index is the key here! take tail as test data! \n",
        "\n",
        "# numpy array slicing syntax\n",
        "\n",
        "X_train, y_train = X[:-20_000], y[:-20_000]\n",
        "X_val, y_val = X[-20_000:-10_000], y[-20_000:-10_000]\n",
        "X_test, y_test = X[-10_000:], y[-10_000:]"
      ],
      "metadata": {
        "id": "GwYIgcAw69H6"
      },
      "execution_count": 22,
      "outputs": []
    },
    {
      "cell_type": "markdown",
      "metadata": {
        "id": "gqrH6lRSoZif"
      },
      "source": [
        "# III. Establish Baseline"
      ]
    },
    {
      "cell_type": "code",
      "source": [
        "print('Mean interest rate:', y_train.mean())\n",
        "\n",
        "y_pred = [y_train.mean()] * len(y_train)\n",
        "print('Baseline MAE:', mean_absolute_error(y_train, y_pred))"
      ],
      "metadata": {
        "id": "ZrikGbdu7hkR",
        "outputId": "d8dd66ff-8ced-4606-8aac-056f46864c31",
        "colab": {
          "base_uri": "https://localhost:8080/"
        }
      },
      "execution_count": 23,
      "outputs": [
        {
          "output_type": "stream",
          "name": "stdout",
          "text": [
            "Mean interest rate: 11.63083172683021\n",
            "Baseline MAE: 2.975653413147899\n"
          ]
        }
      ]
    },
    {
      "cell_type": "markdown",
      "metadata": {
        "id": "2abFXVsboZig"
      },
      "source": [
        "# IV. Build Model"
      ]
    },
    {
      "cell_type": "code",
      "source": [
        "# not using any pipelines\n",
        "\n",
        "model_lr = LinearRegression()\n",
        "model_r = Ridge()\n",
        "model_rf = RandomForestRegressor(random_state=42, n_jobs=-1)\n",
        "model_xgb = XGBRegressor(random_state=42, n_jobs=-1)"
      ],
      "metadata": {
        "id": "9MWu-_5D7Hqp"
      },
      "execution_count": 24,
      "outputs": []
    },
    {
      "cell_type": "code",
      "source": [
        "model_lr.fit(X_train, y_train);\n",
        "model_r.fit(X_train, y_train);\n",
        "model_rf.fit(X_train, y_train);\n",
        "model_xgb.fit(X_train, y_train);"
      ],
      "metadata": {
        "id": "_0h0GJnP7HR7",
        "outputId": "755ab304-6cea-4a88-b25a-4bef92c00b21",
        "colab": {
          "base_uri": "https://localhost:8080/"
        }
      },
      "execution_count": 25,
      "outputs": [
        {
          "output_type": "stream",
          "name": "stdout",
          "text": [
            "[21:48:09] WARNING: /workspace/src/objective/regression_obj.cu:152: reg:linear is now deprecated in favor of reg:squarederror.\n"
          ]
        }
      ]
    },
    {
      "cell_type": "markdown",
      "metadata": {
        "id": "-LTSYPUboZig"
      },
      "source": [
        "# V. Check Metrics"
      ]
    },
    {
      "cell_type": "code",
      "source": [
        "def check_metrics(model):\n",
        "  print('Training MAE:', mean_absolute_error(y_train, model.predict(X_train)))\n",
        "  print('Validation MAE:', mean_absolute_error(y_val, model.predict(X_val)))\n",
        "  print('Validation R^2:', model.score(X_val, y_val))\n",
        "  print()\n",
        "  print()\n",
        "\n",
        "models = [model_lr, model_r, model_rf, model_xgb]\n",
        "\n",
        "for m in models:\n",
        "  check_metrics(m)"
      ],
      "metadata": {
        "id": "SBnUEWBf7MwK"
      },
      "execution_count": null,
      "outputs": []
    },
    {
      "cell_type": "markdown",
      "metadata": {
        "id": "waBHeyreoZih"
      },
      "source": [
        "# VI. Communicate Results"
      ]
    },
    {
      "cell_type": "code",
      "source": [
        "coefficients = \n",
        "coef = pd.DataFrame(data=coefficients, index=X_train.columns,columns=['coefficients'])\n",
        "coef['coefficients'].sort_values().plot(kind='barh');\n",
        "plt.title('Linear Regression Coefficients')\n",
        "plt.show()"
      ],
      "metadata": {
        "id": "T_jKQIe0bSGi"
      },
      "execution_count": null,
      "outputs": []
    },
    {
      "cell_type": "code",
      "source": [
        "importances = \n",
        "imp = pd.DataFrame(data=importances, index=X_train.columns, columns=['coefficients'])\n",
        "imp['coefficients'].sort_values().plot(kind='barh');\n",
        "plt.title('XGBoost Feature Importances')\n",
        "plt.show()"
      ],
      "metadata": {
        "id": "p9Skt3KUbR-a"
      },
      "execution_count": null,
      "outputs": []
    },
    {
      "cell_type": "code",
      "source": [
        "from sklearn.tree import plot_tree\n",
        "\n",
        "plt.figure(figsize=(60,15))\n",
        "\n",
        "plot_tree(\n",
        "     \n",
        "     max_depth=2,\n",
        "     feature_names=X_train.columns,\n",
        "     filled=True\n",
        ");"
      ],
      "metadata": {
        "id": "YtG_r6NoPVYM"
      },
      "execution_count": null,
      "outputs": []
    },
    {
      "cell_type": "markdown",
      "source": [
        "## Partial Dependence Plots\n",
        "\n",
        "One Feature"
      ],
      "metadata": {
        "id": "sWAJrgt6bPjS"
      }
    },
    {
      "cell_type": "code",
      "source": [
        "# select one feature"
      ],
      "metadata": {
        "id": "ANwXpDR9jeNB"
      },
      "execution_count": null,
      "outputs": []
    },
    {
      "cell_type": "code",
      "source": [
        "# create an instance of PDP Isolate."
      ],
      "metadata": {
        "id": "f4HPtLSOjeDp"
      },
      "execution_count": null,
      "outputs": []
    },
    {
      "cell_type": "markdown",
      "metadata": {
        "id": "YqYmdAEPoZii"
      },
      "source": [
        "Two features"
      ]
    },
    {
      "cell_type": "code",
      "source": [
        "# select two features"
      ],
      "metadata": {
        "id": "d3Y7mlkLjfPL"
      },
      "execution_count": null,
      "outputs": []
    },
    {
      "cell_type": "code",
      "source": [
        "# create an instance of PDP Interact.\n"
      ],
      "metadata": {
        "id": "N1Bcs81bjfKh"
      },
      "execution_count": null,
      "outputs": []
    },
    {
      "cell_type": "markdown",
      "metadata": {
        "id": "WZL2FvK5oZii"
      },
      "source": [
        "## Shapley Plots"
      ]
    },
    {
      "cell_type": "code",
      "source": [
        "#select one sample/observation"
      ],
      "metadata": {
        "id": "qXFMJCQsliNh"
      },
      "execution_count": null,
      "outputs": []
    },
    {
      "cell_type": "code",
      "source": [
        "# Shapley Force Plot\n",
        "# This may not work well in local notebooks\n",
        "# you may need to install ipywidgets\n",
        "\n",
        "#initialization of java script\n",
        "\n"
      ],
      "metadata": {
        "id": "Da8rNcHdlila"
      },
      "execution_count": null,
      "outputs": []
    },
    {
      "cell_type": "code",
      "source": [],
      "metadata": {
        "id": "6ji7o-Uoliip"
      },
      "execution_count": null,
      "outputs": []
    },
    {
      "cell_type": "code",
      "source": [],
      "metadata": {
        "id": "s_cuCmr9liRS"
      },
      "execution_count": null,
      "outputs": []
    }
  ]
}