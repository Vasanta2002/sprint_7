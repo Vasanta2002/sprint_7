{
  "nbformat": 4,
  "nbformat_minor": 0,
  "metadata": {
    "colab": {
      "provenance": [],
      "authorship_tag": "ABX9TyNo4ExCh0kPQUGq/VfO+ms8",
      "include_colab_link": true
    },
    "kernelspec": {
      "name": "python3",
      "display_name": "Python 3"
    },
    "language_info": {
      "name": "python"
    }
  },
  "cells": [
    {
      "cell_type": "markdown",
      "metadata": {
        "id": "view-in-github",
        "colab_type": "text"
      },
      "source": [
        "<a href=\"https://colab.research.google.com/github/Vasanta2002/sprint_7/blob/main/portfolio_project.ipynb\" target=\"_parent\"><img src=\"https://colab.research.google.com/assets/colab-badge.svg\" alt=\"Open In Colab\"/></a>"
      ]
    },
    {
      "cell_type": "code",
      "source": [
        "\n",
        "%%capture\n",
        "!pip install category_encoders==2.*\n"
      ],
      "metadata": {
        "id": "_B7L6CiuNLAb"
      },
      "execution_count": 1,
      "outputs": []
    },
    {
      "cell_type": "code",
      "execution_count": 2,
      "metadata": {
        "id": "PY606PFGSHrE"
      },
      "outputs": [],
      "source": [
        "import pandas as pd\n",
        "from sklearn.model_selection import train_test_split\n",
        "from sklearn.pipeline import make_pipeline\n",
        "from category_encoders import OrdinalEncoder\n",
        "from sklearn.impute import SimpleImputer\n",
        "from sklearn.ensemble import RandomForestClassifier\n",
        "from sklearn.linear_model import LogisticRegression\n",
        "from sklearn.preprocessing import StandardScaler\n",
        "from sklearn.metrics import classification_report, roc_curve, plot_confusion_matrix, plot_roc_curve,roc_auc_score\n",
        "import matplotlib.pyplot as plt"
      ]
    },
    {
      "cell_type": "code",
      "source": [
        "filepath = 'https://raw.githubusercontent.com/Vasanta2002/sprint_7/main/dataset.csv'\n"
      ],
      "metadata": {
        "id": "zUNRyBwwfzbY"
      },
      "execution_count": 3,
      "outputs": []
    },
    {
      "cell_type": "code",
      "source": [
        "def wrangle(filepath):\n",
        "\n",
        "  df = pd.read_csv(filepath)\n",
        "\n",
        "  pd.set_option('max_columns', None)\n",
        "  \n",
        "  # show all columns\n",
        "  pd.set_option('max_columns', None)\n",
        "\n",
        "  # replace space with another character\n",
        "  df.columns = df.columns.str.replace(' ', '_')\n",
        "  \n",
        "  # make feature names lower case\n",
        "  df.columns= df.columns.str.lower()\n",
        "\n",
        "  # make the target feature\n",
        "  df['graduated'] = (df['target'] == 'Graduate').astype(int)\n",
        "\n",
        "  # remove used column\n",
        "  df.drop(columns='target', inplace=True)\n",
        "\n",
        "  \n",
        "\n",
        "  return df"
      ],
      "metadata": {
        "id": "1_PdrY4A9LYr"
      },
      "execution_count": 4,
      "outputs": []
    },
    {
      "cell_type": "code",
      "source": [
        "df = wrangle(filepath)"
      ],
      "metadata": {
        "id": "NFRXct2Nf8CR"
      },
      "execution_count": 5,
      "outputs": []
    },
    {
      "cell_type": "code",
      "source": [
        "df.shape"
      ],
      "metadata": {
        "colab": {
          "base_uri": "https://localhost:8080/"
        },
        "id": "XughdOsiLW18",
        "outputId": "bada2cb5-8bdc-4aa9-e190-f80004d72aa0"
      },
      "execution_count": 6,
      "outputs": [
        {
          "output_type": "execute_result",
          "data": {
            "text/plain": [
              "(4424, 35)"
            ]
          },
          "metadata": {},
          "execution_count": 6
        }
      ]
    },
    {
      "cell_type": "code",
      "source": [
        "df.describe()"
      ],
      "metadata": {
        "colab": {
          "base_uri": "https://localhost:8080/",
          "height": 364
        },
        "id": "JpQYuVPFHngr",
        "outputId": "708a090f-9c0e-49a4-b464-1cf2c6901b8e"
      },
      "execution_count": 7,
      "outputs": [
        {
          "output_type": "execute_result",
          "data": {
            "text/plain": [
              "       marital_status  application_mode  application_order       course  \\\n",
              "count     4424.000000       4424.000000        4424.000000  4424.000000   \n",
              "mean         1.178571          6.886980           1.727848     9.899186   \n",
              "std          0.605747          5.298964           1.313793     4.331792   \n",
              "min          1.000000          1.000000           0.000000     1.000000   \n",
              "25%          1.000000          1.000000           1.000000     6.000000   \n",
              "50%          1.000000          8.000000           1.000000    10.000000   \n",
              "75%          1.000000         12.000000           2.000000    13.000000   \n",
              "max          6.000000         18.000000           9.000000    17.000000   \n",
              "\n",
              "       daytime/evening_attendance  previous_qualification  nacionality  \\\n",
              "count                 4424.000000             4424.000000  4424.000000   \n",
              "mean                     0.890823                2.531420     1.254521   \n",
              "std                      0.311897                3.963707     1.748447   \n",
              "min                      0.000000                1.000000     1.000000   \n",
              "25%                      1.000000                1.000000     1.000000   \n",
              "50%                      1.000000                1.000000     1.000000   \n",
              "75%                      1.000000                1.000000     1.000000   \n",
              "max                      1.000000               17.000000    21.000000   \n",
              "\n",
              "       mother's_qualification  father's_qualification  mother's_occupation  \\\n",
              "count             4424.000000             4424.000000          4424.000000   \n",
              "mean                12.322107               16.455244             7.317812   \n",
              "std                  9.026251               11.044800             3.997828   \n",
              "min                  1.000000                1.000000             1.000000   \n",
              "25%                  2.000000                3.000000             5.000000   \n",
              "50%                 13.000000               14.000000             6.000000   \n",
              "75%                 22.000000               27.000000            10.000000   \n",
              "max                 29.000000               34.000000            32.000000   \n",
              "\n",
              "       father's_occupation    displaced  educational_special_needs  \\\n",
              "count          4424.000000  4424.000000                4424.000000   \n",
              "mean              7.819168     0.548373                   0.011528   \n",
              "std               4.856692     0.497711                   0.106760   \n",
              "min               1.000000     0.000000                   0.000000   \n",
              "25%               5.000000     0.000000                   0.000000   \n",
              "50%               8.000000     1.000000                   0.000000   \n",
              "75%              10.000000     1.000000                   0.000000   \n",
              "max              46.000000     1.000000                   1.000000   \n",
              "\n",
              "            debtor  tuition_fees_up_to_date       gender  scholarship_holder  \\\n",
              "count  4424.000000              4424.000000  4424.000000         4424.000000   \n",
              "mean      0.113698                 0.880651     0.351718            0.248418   \n",
              "std       0.317480                 0.324235     0.477560            0.432144   \n",
              "min       0.000000                 0.000000     0.000000            0.000000   \n",
              "25%       0.000000                 1.000000     0.000000            0.000000   \n",
              "50%       0.000000                 1.000000     0.000000            0.000000   \n",
              "75%       0.000000                 1.000000     1.000000            0.000000   \n",
              "max       1.000000                 1.000000     1.000000            1.000000   \n",
              "\n",
              "       age_at_enrollment  international  curricular_units_1st_sem_(credited)  \\\n",
              "count        4424.000000    4424.000000                          4424.000000   \n",
              "mean           23.265145       0.024864                             0.709991   \n",
              "std             7.587816       0.155729                             2.360507   \n",
              "min            17.000000       0.000000                             0.000000   \n",
              "25%            19.000000       0.000000                             0.000000   \n",
              "50%            20.000000       0.000000                             0.000000   \n",
              "75%            25.000000       0.000000                             0.000000   \n",
              "max            70.000000       1.000000                            20.000000   \n",
              "\n",
              "       curricular_units_1st_sem_(enrolled)  \\\n",
              "count                          4424.000000   \n",
              "mean                              6.270570   \n",
              "std                               2.480178   \n",
              "min                               0.000000   \n",
              "25%                               5.000000   \n",
              "50%                               6.000000   \n",
              "75%                               7.000000   \n",
              "max                              26.000000   \n",
              "\n",
              "       curricular_units_1st_sem_(evaluations)  \\\n",
              "count                             4424.000000   \n",
              "mean                                 8.299051   \n",
              "std                                  4.179106   \n",
              "min                                  0.000000   \n",
              "25%                                  6.000000   \n",
              "50%                                  8.000000   \n",
              "75%                                 10.000000   \n",
              "max                                 45.000000   \n",
              "\n",
              "       curricular_units_1st_sem_(approved)  curricular_units_1st_sem_(grade)  \\\n",
              "count                          4424.000000                       4424.000000   \n",
              "mean                              4.706600                         10.640822   \n",
              "std                               3.094238                          4.843663   \n",
              "min                               0.000000                          0.000000   \n",
              "25%                               3.000000                         11.000000   \n",
              "50%                               5.000000                         12.285714   \n",
              "75%                               6.000000                         13.400000   \n",
              "max                              26.000000                         18.875000   \n",
              "\n",
              "       curricular_units_1st_sem_(without_evaluations)  \\\n",
              "count                                     4424.000000   \n",
              "mean                                         0.137658   \n",
              "std                                          0.690880   \n",
              "min                                          0.000000   \n",
              "25%                                          0.000000   \n",
              "50%                                          0.000000   \n",
              "75%                                          0.000000   \n",
              "max                                         12.000000   \n",
              "\n",
              "       curricular_units_2nd_sem_(credited)  \\\n",
              "count                          4424.000000   \n",
              "mean                              0.541817   \n",
              "std                               1.918546   \n",
              "min                               0.000000   \n",
              "25%                               0.000000   \n",
              "50%                               0.000000   \n",
              "75%                               0.000000   \n",
              "max                              19.000000   \n",
              "\n",
              "       curricular_units_2nd_sem_(enrolled)  \\\n",
              "count                          4424.000000   \n",
              "mean                              6.232143   \n",
              "std                               2.195951   \n",
              "min                               0.000000   \n",
              "25%                               5.000000   \n",
              "50%                               6.000000   \n",
              "75%                               7.000000   \n",
              "max                              23.000000   \n",
              "\n",
              "       curricular_units_2nd_sem_(evaluations)  \\\n",
              "count                             4424.000000   \n",
              "mean                                 8.063291   \n",
              "std                                  3.947951   \n",
              "min                                  0.000000   \n",
              "25%                                  6.000000   \n",
              "50%                                  8.000000   \n",
              "75%                                 10.000000   \n",
              "max                                 33.000000   \n",
              "\n",
              "       curricular_units_2nd_sem_(approved)  curricular_units_2nd_sem_(grade)  \\\n",
              "count                          4424.000000                       4424.000000   \n",
              "mean                              4.435805                         10.230206   \n",
              "std                               3.014764                          5.210808   \n",
              "min                               0.000000                          0.000000   \n",
              "25%                               2.000000                         10.750000   \n",
              "50%                               5.000000                         12.200000   \n",
              "75%                               6.000000                         13.333333   \n",
              "max                              20.000000                         18.571429   \n",
              "\n",
              "       curricular_units_2nd_sem_(without_evaluations)  unemployment_rate  \\\n",
              "count                                     4424.000000        4424.000000   \n",
              "mean                                         0.150316          11.566139   \n",
              "std                                          0.753774           2.663850   \n",
              "min                                          0.000000           7.600000   \n",
              "25%                                          0.000000           9.400000   \n",
              "50%                                          0.000000          11.100000   \n",
              "75%                                          0.000000          13.900000   \n",
              "max                                         12.000000          16.200000   \n",
              "\n",
              "       inflation_rate          gdp    graduated  \n",
              "count     4424.000000  4424.000000  4424.000000  \n",
              "mean         1.228029     0.001969     0.499322  \n",
              "std          1.382711     2.269935     0.500056  \n",
              "min         -0.800000    -4.060000     0.000000  \n",
              "25%          0.300000    -1.700000     0.000000  \n",
              "50%          1.400000     0.320000     0.000000  \n",
              "75%          2.600000     1.790000     1.000000  \n",
              "max          3.700000     3.510000     1.000000  "
            ],
            "text/html": [
              "\n",
              "  <div id=\"df-639811b9-3375-43f3-996d-d4a1b307debb\">\n",
              "    <div class=\"colab-df-container\">\n",
              "      <div>\n",
              "<style scoped>\n",
              "    .dataframe tbody tr th:only-of-type {\n",
              "        vertical-align: middle;\n",
              "    }\n",
              "\n",
              "    .dataframe tbody tr th {\n",
              "        vertical-align: top;\n",
              "    }\n",
              "\n",
              "    .dataframe thead th {\n",
              "        text-align: right;\n",
              "    }\n",
              "</style>\n",
              "<table border=\"1\" class=\"dataframe\">\n",
              "  <thead>\n",
              "    <tr style=\"text-align: right;\">\n",
              "      <th></th>\n",
              "      <th>marital_status</th>\n",
              "      <th>application_mode</th>\n",
              "      <th>application_order</th>\n",
              "      <th>course</th>\n",
              "      <th>daytime/evening_attendance</th>\n",
              "      <th>previous_qualification</th>\n",
              "      <th>nacionality</th>\n",
              "      <th>mother's_qualification</th>\n",
              "      <th>father's_qualification</th>\n",
              "      <th>mother's_occupation</th>\n",
              "      <th>father's_occupation</th>\n",
              "      <th>displaced</th>\n",
              "      <th>educational_special_needs</th>\n",
              "      <th>debtor</th>\n",
              "      <th>tuition_fees_up_to_date</th>\n",
              "      <th>gender</th>\n",
              "      <th>scholarship_holder</th>\n",
              "      <th>age_at_enrollment</th>\n",
              "      <th>international</th>\n",
              "      <th>curricular_units_1st_sem_(credited)</th>\n",
              "      <th>curricular_units_1st_sem_(enrolled)</th>\n",
              "      <th>curricular_units_1st_sem_(evaluations)</th>\n",
              "      <th>curricular_units_1st_sem_(approved)</th>\n",
              "      <th>curricular_units_1st_sem_(grade)</th>\n",
              "      <th>curricular_units_1st_sem_(without_evaluations)</th>\n",
              "      <th>curricular_units_2nd_sem_(credited)</th>\n",
              "      <th>curricular_units_2nd_sem_(enrolled)</th>\n",
              "      <th>curricular_units_2nd_sem_(evaluations)</th>\n",
              "      <th>curricular_units_2nd_sem_(approved)</th>\n",
              "      <th>curricular_units_2nd_sem_(grade)</th>\n",
              "      <th>curricular_units_2nd_sem_(without_evaluations)</th>\n",
              "      <th>unemployment_rate</th>\n",
              "      <th>inflation_rate</th>\n",
              "      <th>gdp</th>\n",
              "      <th>graduated</th>\n",
              "    </tr>\n",
              "  </thead>\n",
              "  <tbody>\n",
              "    <tr>\n",
              "      <th>count</th>\n",
              "      <td>4424.000000</td>\n",
              "      <td>4424.000000</td>\n",
              "      <td>4424.000000</td>\n",
              "      <td>4424.000000</td>\n",
              "      <td>4424.000000</td>\n",
              "      <td>4424.000000</td>\n",
              "      <td>4424.000000</td>\n",
              "      <td>4424.000000</td>\n",
              "      <td>4424.000000</td>\n",
              "      <td>4424.000000</td>\n",
              "      <td>4424.000000</td>\n",
              "      <td>4424.000000</td>\n",
              "      <td>4424.000000</td>\n",
              "      <td>4424.000000</td>\n",
              "      <td>4424.000000</td>\n",
              "      <td>4424.000000</td>\n",
              "      <td>4424.000000</td>\n",
              "      <td>4424.000000</td>\n",
              "      <td>4424.000000</td>\n",
              "      <td>4424.000000</td>\n",
              "      <td>4424.000000</td>\n",
              "      <td>4424.000000</td>\n",
              "      <td>4424.000000</td>\n",
              "      <td>4424.000000</td>\n",
              "      <td>4424.000000</td>\n",
              "      <td>4424.000000</td>\n",
              "      <td>4424.000000</td>\n",
              "      <td>4424.000000</td>\n",
              "      <td>4424.000000</td>\n",
              "      <td>4424.000000</td>\n",
              "      <td>4424.000000</td>\n",
              "      <td>4424.000000</td>\n",
              "      <td>4424.000000</td>\n",
              "      <td>4424.000000</td>\n",
              "      <td>4424.000000</td>\n",
              "    </tr>\n",
              "    <tr>\n",
              "      <th>mean</th>\n",
              "      <td>1.178571</td>\n",
              "      <td>6.886980</td>\n",
              "      <td>1.727848</td>\n",
              "      <td>9.899186</td>\n",
              "      <td>0.890823</td>\n",
              "      <td>2.531420</td>\n",
              "      <td>1.254521</td>\n",
              "      <td>12.322107</td>\n",
              "      <td>16.455244</td>\n",
              "      <td>7.317812</td>\n",
              "      <td>7.819168</td>\n",
              "      <td>0.548373</td>\n",
              "      <td>0.011528</td>\n",
              "      <td>0.113698</td>\n",
              "      <td>0.880651</td>\n",
              "      <td>0.351718</td>\n",
              "      <td>0.248418</td>\n",
              "      <td>23.265145</td>\n",
              "      <td>0.024864</td>\n",
              "      <td>0.709991</td>\n",
              "      <td>6.270570</td>\n",
              "      <td>8.299051</td>\n",
              "      <td>4.706600</td>\n",
              "      <td>10.640822</td>\n",
              "      <td>0.137658</td>\n",
              "      <td>0.541817</td>\n",
              "      <td>6.232143</td>\n",
              "      <td>8.063291</td>\n",
              "      <td>4.435805</td>\n",
              "      <td>10.230206</td>\n",
              "      <td>0.150316</td>\n",
              "      <td>11.566139</td>\n",
              "      <td>1.228029</td>\n",
              "      <td>0.001969</td>\n",
              "      <td>0.499322</td>\n",
              "    </tr>\n",
              "    <tr>\n",
              "      <th>std</th>\n",
              "      <td>0.605747</td>\n",
              "      <td>5.298964</td>\n",
              "      <td>1.313793</td>\n",
              "      <td>4.331792</td>\n",
              "      <td>0.311897</td>\n",
              "      <td>3.963707</td>\n",
              "      <td>1.748447</td>\n",
              "      <td>9.026251</td>\n",
              "      <td>11.044800</td>\n",
              "      <td>3.997828</td>\n",
              "      <td>4.856692</td>\n",
              "      <td>0.497711</td>\n",
              "      <td>0.106760</td>\n",
              "      <td>0.317480</td>\n",
              "      <td>0.324235</td>\n",
              "      <td>0.477560</td>\n",
              "      <td>0.432144</td>\n",
              "      <td>7.587816</td>\n",
              "      <td>0.155729</td>\n",
              "      <td>2.360507</td>\n",
              "      <td>2.480178</td>\n",
              "      <td>4.179106</td>\n",
              "      <td>3.094238</td>\n",
              "      <td>4.843663</td>\n",
              "      <td>0.690880</td>\n",
              "      <td>1.918546</td>\n",
              "      <td>2.195951</td>\n",
              "      <td>3.947951</td>\n",
              "      <td>3.014764</td>\n",
              "      <td>5.210808</td>\n",
              "      <td>0.753774</td>\n",
              "      <td>2.663850</td>\n",
              "      <td>1.382711</td>\n",
              "      <td>2.269935</td>\n",
              "      <td>0.500056</td>\n",
              "    </tr>\n",
              "    <tr>\n",
              "      <th>min</th>\n",
              "      <td>1.000000</td>\n",
              "      <td>1.000000</td>\n",
              "      <td>0.000000</td>\n",
              "      <td>1.000000</td>\n",
              "      <td>0.000000</td>\n",
              "      <td>1.000000</td>\n",
              "      <td>1.000000</td>\n",
              "      <td>1.000000</td>\n",
              "      <td>1.000000</td>\n",
              "      <td>1.000000</td>\n",
              "      <td>1.000000</td>\n",
              "      <td>0.000000</td>\n",
              "      <td>0.000000</td>\n",
              "      <td>0.000000</td>\n",
              "      <td>0.000000</td>\n",
              "      <td>0.000000</td>\n",
              "      <td>0.000000</td>\n",
              "      <td>17.000000</td>\n",
              "      <td>0.000000</td>\n",
              "      <td>0.000000</td>\n",
              "      <td>0.000000</td>\n",
              "      <td>0.000000</td>\n",
              "      <td>0.000000</td>\n",
              "      <td>0.000000</td>\n",
              "      <td>0.000000</td>\n",
              "      <td>0.000000</td>\n",
              "      <td>0.000000</td>\n",
              "      <td>0.000000</td>\n",
              "      <td>0.000000</td>\n",
              "      <td>0.000000</td>\n",
              "      <td>0.000000</td>\n",
              "      <td>7.600000</td>\n",
              "      <td>-0.800000</td>\n",
              "      <td>-4.060000</td>\n",
              "      <td>0.000000</td>\n",
              "    </tr>\n",
              "    <tr>\n",
              "      <th>25%</th>\n",
              "      <td>1.000000</td>\n",
              "      <td>1.000000</td>\n",
              "      <td>1.000000</td>\n",
              "      <td>6.000000</td>\n",
              "      <td>1.000000</td>\n",
              "      <td>1.000000</td>\n",
              "      <td>1.000000</td>\n",
              "      <td>2.000000</td>\n",
              "      <td>3.000000</td>\n",
              "      <td>5.000000</td>\n",
              "      <td>5.000000</td>\n",
              "      <td>0.000000</td>\n",
              "      <td>0.000000</td>\n",
              "      <td>0.000000</td>\n",
              "      <td>1.000000</td>\n",
              "      <td>0.000000</td>\n",
              "      <td>0.000000</td>\n",
              "      <td>19.000000</td>\n",
              "      <td>0.000000</td>\n",
              "      <td>0.000000</td>\n",
              "      <td>5.000000</td>\n",
              "      <td>6.000000</td>\n",
              "      <td>3.000000</td>\n",
              "      <td>11.000000</td>\n",
              "      <td>0.000000</td>\n",
              "      <td>0.000000</td>\n",
              "      <td>5.000000</td>\n",
              "      <td>6.000000</td>\n",
              "      <td>2.000000</td>\n",
              "      <td>10.750000</td>\n",
              "      <td>0.000000</td>\n",
              "      <td>9.400000</td>\n",
              "      <td>0.300000</td>\n",
              "      <td>-1.700000</td>\n",
              "      <td>0.000000</td>\n",
              "    </tr>\n",
              "    <tr>\n",
              "      <th>50%</th>\n",
              "      <td>1.000000</td>\n",
              "      <td>8.000000</td>\n",
              "      <td>1.000000</td>\n",
              "      <td>10.000000</td>\n",
              "      <td>1.000000</td>\n",
              "      <td>1.000000</td>\n",
              "      <td>1.000000</td>\n",
              "      <td>13.000000</td>\n",
              "      <td>14.000000</td>\n",
              "      <td>6.000000</td>\n",
              "      <td>8.000000</td>\n",
              "      <td>1.000000</td>\n",
              "      <td>0.000000</td>\n",
              "      <td>0.000000</td>\n",
              "      <td>1.000000</td>\n",
              "      <td>0.000000</td>\n",
              "      <td>0.000000</td>\n",
              "      <td>20.000000</td>\n",
              "      <td>0.000000</td>\n",
              "      <td>0.000000</td>\n",
              "      <td>6.000000</td>\n",
              "      <td>8.000000</td>\n",
              "      <td>5.000000</td>\n",
              "      <td>12.285714</td>\n",
              "      <td>0.000000</td>\n",
              "      <td>0.000000</td>\n",
              "      <td>6.000000</td>\n",
              "      <td>8.000000</td>\n",
              "      <td>5.000000</td>\n",
              "      <td>12.200000</td>\n",
              "      <td>0.000000</td>\n",
              "      <td>11.100000</td>\n",
              "      <td>1.400000</td>\n",
              "      <td>0.320000</td>\n",
              "      <td>0.000000</td>\n",
              "    </tr>\n",
              "    <tr>\n",
              "      <th>75%</th>\n",
              "      <td>1.000000</td>\n",
              "      <td>12.000000</td>\n",
              "      <td>2.000000</td>\n",
              "      <td>13.000000</td>\n",
              "      <td>1.000000</td>\n",
              "      <td>1.000000</td>\n",
              "      <td>1.000000</td>\n",
              "      <td>22.000000</td>\n",
              "      <td>27.000000</td>\n",
              "      <td>10.000000</td>\n",
              "      <td>10.000000</td>\n",
              "      <td>1.000000</td>\n",
              "      <td>0.000000</td>\n",
              "      <td>0.000000</td>\n",
              "      <td>1.000000</td>\n",
              "      <td>1.000000</td>\n",
              "      <td>0.000000</td>\n",
              "      <td>25.000000</td>\n",
              "      <td>0.000000</td>\n",
              "      <td>0.000000</td>\n",
              "      <td>7.000000</td>\n",
              "      <td>10.000000</td>\n",
              "      <td>6.000000</td>\n",
              "      <td>13.400000</td>\n",
              "      <td>0.000000</td>\n",
              "      <td>0.000000</td>\n",
              "      <td>7.000000</td>\n",
              "      <td>10.000000</td>\n",
              "      <td>6.000000</td>\n",
              "      <td>13.333333</td>\n",
              "      <td>0.000000</td>\n",
              "      <td>13.900000</td>\n",
              "      <td>2.600000</td>\n",
              "      <td>1.790000</td>\n",
              "      <td>1.000000</td>\n",
              "    </tr>\n",
              "    <tr>\n",
              "      <th>max</th>\n",
              "      <td>6.000000</td>\n",
              "      <td>18.000000</td>\n",
              "      <td>9.000000</td>\n",
              "      <td>17.000000</td>\n",
              "      <td>1.000000</td>\n",
              "      <td>17.000000</td>\n",
              "      <td>21.000000</td>\n",
              "      <td>29.000000</td>\n",
              "      <td>34.000000</td>\n",
              "      <td>32.000000</td>\n",
              "      <td>46.000000</td>\n",
              "      <td>1.000000</td>\n",
              "      <td>1.000000</td>\n",
              "      <td>1.000000</td>\n",
              "      <td>1.000000</td>\n",
              "      <td>1.000000</td>\n",
              "      <td>1.000000</td>\n",
              "      <td>70.000000</td>\n",
              "      <td>1.000000</td>\n",
              "      <td>20.000000</td>\n",
              "      <td>26.000000</td>\n",
              "      <td>45.000000</td>\n",
              "      <td>26.000000</td>\n",
              "      <td>18.875000</td>\n",
              "      <td>12.000000</td>\n",
              "      <td>19.000000</td>\n",
              "      <td>23.000000</td>\n",
              "      <td>33.000000</td>\n",
              "      <td>20.000000</td>\n",
              "      <td>18.571429</td>\n",
              "      <td>12.000000</td>\n",
              "      <td>16.200000</td>\n",
              "      <td>3.700000</td>\n",
              "      <td>3.510000</td>\n",
              "      <td>1.000000</td>\n",
              "    </tr>\n",
              "  </tbody>\n",
              "</table>\n",
              "</div>\n",
              "      <button class=\"colab-df-convert\" onclick=\"convertToInteractive('df-639811b9-3375-43f3-996d-d4a1b307debb')\"\n",
              "              title=\"Convert this dataframe to an interactive table.\"\n",
              "              style=\"display:none;\">\n",
              "        \n",
              "  <svg xmlns=\"http://www.w3.org/2000/svg\" height=\"24px\"viewBox=\"0 0 24 24\"\n",
              "       width=\"24px\">\n",
              "    <path d=\"M0 0h24v24H0V0z\" fill=\"none\"/>\n",
              "    <path d=\"M18.56 5.44l.94 2.06.94-2.06 2.06-.94-2.06-.94-.94-2.06-.94 2.06-2.06.94zm-11 1L8.5 8.5l.94-2.06 2.06-.94-2.06-.94L8.5 2.5l-.94 2.06-2.06.94zm10 10l.94 2.06.94-2.06 2.06-.94-2.06-.94-.94-2.06-.94 2.06-2.06.94z\"/><path d=\"M17.41 7.96l-1.37-1.37c-.4-.4-.92-.59-1.43-.59-.52 0-1.04.2-1.43.59L10.3 9.45l-7.72 7.72c-.78.78-.78 2.05 0 2.83L4 21.41c.39.39.9.59 1.41.59.51 0 1.02-.2 1.41-.59l7.78-7.78 2.81-2.81c.8-.78.8-2.07 0-2.86zM5.41 20L4 18.59l7.72-7.72 1.47 1.35L5.41 20z\"/>\n",
              "  </svg>\n",
              "      </button>\n",
              "      \n",
              "  <style>\n",
              "    .colab-df-container {\n",
              "      display:flex;\n",
              "      flex-wrap:wrap;\n",
              "      gap: 12px;\n",
              "    }\n",
              "\n",
              "    .colab-df-convert {\n",
              "      background-color: #E8F0FE;\n",
              "      border: none;\n",
              "      border-radius: 50%;\n",
              "      cursor: pointer;\n",
              "      display: none;\n",
              "      fill: #1967D2;\n",
              "      height: 32px;\n",
              "      padding: 0 0 0 0;\n",
              "      width: 32px;\n",
              "    }\n",
              "\n",
              "    .colab-df-convert:hover {\n",
              "      background-color: #E2EBFA;\n",
              "      box-shadow: 0px 1px 2px rgba(60, 64, 67, 0.3), 0px 1px 3px 1px rgba(60, 64, 67, 0.15);\n",
              "      fill: #174EA6;\n",
              "    }\n",
              "\n",
              "    [theme=dark] .colab-df-convert {\n",
              "      background-color: #3B4455;\n",
              "      fill: #D2E3FC;\n",
              "    }\n",
              "\n",
              "    [theme=dark] .colab-df-convert:hover {\n",
              "      background-color: #434B5C;\n",
              "      box-shadow: 0px 1px 3px 1px rgba(0, 0, 0, 0.15);\n",
              "      filter: drop-shadow(0px 1px 2px rgba(0, 0, 0, 0.3));\n",
              "      fill: #FFFFFF;\n",
              "    }\n",
              "  </style>\n",
              "\n",
              "      <script>\n",
              "        const buttonEl =\n",
              "          document.querySelector('#df-639811b9-3375-43f3-996d-d4a1b307debb button.colab-df-convert');\n",
              "        buttonEl.style.display =\n",
              "          google.colab.kernel.accessAllowed ? 'block' : 'none';\n",
              "\n",
              "        async function convertToInteractive(key) {\n",
              "          const element = document.querySelector('#df-639811b9-3375-43f3-996d-d4a1b307debb');\n",
              "          const dataTable =\n",
              "            await google.colab.kernel.invokeFunction('convertToInteractive',\n",
              "                                                     [key], {});\n",
              "          if (!dataTable) return;\n",
              "\n",
              "          const docLinkHtml = 'Like what you see? Visit the ' +\n",
              "            '<a target=\"_blank\" href=https://colab.research.google.com/notebooks/data_table.ipynb>data table notebook</a>'\n",
              "            + ' to learn more about interactive tables.';\n",
              "          element.innerHTML = '';\n",
              "          dataTable['output_type'] = 'display_data';\n",
              "          await google.colab.output.renderOutput(dataTable, element);\n",
              "          const docLink = document.createElement('div');\n",
              "          docLink.innerHTML = docLinkHtml;\n",
              "          element.appendChild(docLink);\n",
              "        }\n",
              "      </script>\n",
              "    </div>\n",
              "  </div>\n",
              "  "
            ]
          },
          "metadata": {},
          "execution_count": 7
        }
      ]
    },
    {
      "cell_type": "code",
      "source": [
        "df.columns"
      ],
      "metadata": {
        "id": "ucZsLQEbh0E0",
        "outputId": "27dbd330-7269-49f8-f92f-0bb919cd7acb",
        "colab": {
          "base_uri": "https://localhost:8080/"
        }
      },
      "execution_count": 8,
      "outputs": [
        {
          "output_type": "execute_result",
          "data": {
            "text/plain": [
              "Index(['marital_status', 'application_mode', 'application_order', 'course',\n",
              "       'daytime/evening_attendance', 'previous_qualification', 'nacionality',\n",
              "       'mother's_qualification', 'father's_qualification',\n",
              "       'mother's_occupation', 'father's_occupation', 'displaced',\n",
              "       'educational_special_needs', 'debtor', 'tuition_fees_up_to_date',\n",
              "       'gender', 'scholarship_holder', 'age_at_enrollment', 'international',\n",
              "       'curricular_units_1st_sem_(credited)',\n",
              "       'curricular_units_1st_sem_(enrolled)',\n",
              "       'curricular_units_1st_sem_(evaluations)',\n",
              "       'curricular_units_1st_sem_(approved)',\n",
              "       'curricular_units_1st_sem_(grade)',\n",
              "       'curricular_units_1st_sem_(without_evaluations)',\n",
              "       'curricular_units_2nd_sem_(credited)',\n",
              "       'curricular_units_2nd_sem_(enrolled)',\n",
              "       'curricular_units_2nd_sem_(evaluations)',\n",
              "       'curricular_units_2nd_sem_(approved)',\n",
              "       'curricular_units_2nd_sem_(grade)',\n",
              "       'curricular_units_2nd_sem_(without_evaluations)', 'unemployment_rate',\n",
              "       'inflation_rate', 'gdp', 'graduated'],\n",
              "      dtype='object')"
            ]
          },
          "metadata": {},
          "execution_count": 8
        }
      ]
    },
    {
      "cell_type": "code",
      "source": [
        "#Split the data\n",
        "target = 'graduated'\n",
        "y = df[target]\n",
        "X = df.drop(target, axis=1)"
      ],
      "metadata": {
        "id": "n7D0KBdX_1cq"
      },
      "execution_count": 9,
      "outputs": []
    },
    {
      "cell_type": "code",
      "source": [
        "y.value_counts(normalize=True).plot(kind='bar')"
      ],
      "metadata": {
        "id": "aBTkPV9WRRXk",
        "outputId": "e33701fd-2738-4f51-f412-e488f13be9bc",
        "colab": {
          "base_uri": "https://localhost:8080/",
          "height": 279
        }
      },
      "execution_count": 10,
      "outputs": [
        {
          "output_type": "execute_result",
          "data": {
            "text/plain": [
              "<matplotlib.axes._subplots.AxesSubplot at 0x7fe8af260520>"
            ]
          },
          "metadata": {},
          "execution_count": 10
        },
        {
          "output_type": "display_data",
          "data": {
            "text/plain": [
              "<Figure size 432x288 with 1 Axes>"
            ],
            "image/png": "[encoded data removed]"
          },
          "metadata": {
            "needs_background": "light"
          }
        }
      ]
    },
    {
      "cell_type": "code",
      "source": [
        "X_train_val, X_test, y_train_val, y_test = train_test_split(X, y, test_size=0.2, random_state=42)"
      ],
      "metadata": {
        "id": "5sLm09jDcDKm"
      },
      "execution_count": 11,
      "outputs": []
    },
    {
      "cell_type": "code",
      "source": [
        "X_train, X_val, y_train, y_val = train_test_split(X_train_val, y_train_val, test_size=0.25, random_state=42)"
      ],
      "metadata": {
        "id": "JhrsUxCpLVbY"
      },
      "execution_count": 12,
      "outputs": []
    },
    {
      "cell_type": "code",
      "source": [
        "#Baseline\n",
        "\n",
        "baseline_acc = y_train.value_counts(normalize=True).max()\n",
        "print('baseline accuracy =', baseline_acc)"
      ],
      "metadata": {
        "id": "qC_3mddILwsc",
        "outputId": "c1c9dfc2-453c-4cd1-ae5d-ced5d83d4d31",
        "colab": {
          "base_uri": "https://localhost:8080/"
        }
      },
      "execution_count": 13,
      "outputs": [
        {
          "output_type": "stream",
          "name": "stdout",
          "text": [
            "baseline accuracy = 0.5094197437829691\n"
          ]
        }
      ]
    },
    {
      "cell_type": "code",
      "source": [
        "\n",
        "#build model\n",
        "\n",
        "model_rf_cl = make_pipeline(\n",
        "    SimpleImputer(),\n",
        "    RandomForestClassifier(n_estimators=100, max_depth=25)\n",
        ")\n",
        "\n",
        "model_rf_cl.fit(X_train, y_train)"
      ],
      "metadata": {
        "id": "VguP8tX1MXcH",
        "outputId": "07a222bf-56c2-462c-ffe5-abc341b6b5a3",
        "colab": {
          "base_uri": "https://localhost:8080/"
        }
      },
      "execution_count": 17,
      "outputs": [
        {
          "output_type": "execute_result",
          "data": {
            "text/plain": [
              "Pipeline(steps=[('simpleimputer', SimpleImputer()),\n",
              "                ('randomforestclassifier',\n",
              "                 RandomForestClassifier(max_depth=25))])"
            ]
          },
          "metadata": {},
          "execution_count": 17
        }
      ]
    },
    {
      "cell_type": "code",
      "source": [
        "# check metrics\n",
        "\n",
        "training_acc = model_rf_cl.score(X_train, y_train)\n",
        "val_acc = model_rf_cl.score(X_val, y_val)\n",
        "\n",
        "print('Training Accuracy Score:', training_acc)\n",
        "print('Validation Accuracy Score:', val_acc)"
      ],
      "metadata": {
        "id": "55agKFPPNzlU",
        "outputId": "fdcc4f0e-f6bd-4ec5-9219-59d042345cf8",
        "colab": {
          "base_uri": "https://localhost:8080/"
        }
      },
      "execution_count": 18,
      "outputs": [
        {
          "output_type": "stream",
          "name": "stdout",
          "text": [
            "Training Accuracy Score: 1.0\n",
            "Validation Accuracy Score: 0.8429378531073446\n"
          ]
        }
      ]
    },
    {
      "cell_type": "code",
      "source": [
        "# tuning\n",
        "importances = model_rf_cl.named_steps['randomforestclassifier'].feature_importances_\n",
        "feature_names = X_train.columns\n",
        "feat_imp = pd.Series(data=importances, index=feature_names).sort_values()\n",
        "feat_imp.tail(10).plot(kind='barh')\n",
        "plt.xlabel('Gini Importance')\n",
        "plt.ylabel('Feature')"
      ],
      "metadata": {
        "id": "A_Qlu6HJDyyx",
        "outputId": "b748dbfe-8830-4857-f2a7-23714a22b0e0",
        "colab": {
          "base_uri": "https://localhost:8080/",
          "height": 296
        }
      },
      "execution_count": 19,
      "outputs": [
        {
          "output_type": "execute_result",
          "data": {
            "text/plain": [
              "Text(0, 0.5, 'Feature')"
            ]
          },
          "metadata": {},
          "execution_count": 19
        },
        {
          "output_type": "display_data",
          "data": {
            "text/plain": [
              "<Figure size 432x288 with 1 Axes>"
            ],
            "image/png": "[encoded data removed]"
          },
          "metadata": {
            "needs_background": "light"
          }
        }
      ]
    }
  ]
}