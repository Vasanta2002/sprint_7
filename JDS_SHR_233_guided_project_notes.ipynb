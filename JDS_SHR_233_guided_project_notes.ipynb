{
  "nbformat": 4,
  "nbformat_minor": 0,
  "metadata": {
    "kernelspec": {
      "display_name": "Python 3",
      "language": "python",
      "name": "python3"
    },
    "language_info": {
      "codemirror_mode": {
        "name": "ipython",
        "version": 3
      },
      "file_extension": ".py",
      "mimetype": "text/x-python",
      "name": "python",
      "nbconvert_exporter": "python",
      "pygments_lexer": "ipython3",
      "version": "3.8.2"
    },
    "colab": {
      "provenance": [],
      "include_colab_link": true
    }
  },
  "cells": [
    {
      "cell_type": "markdown",
      "metadata": {
        "id": "view-in-github",
        "colab_type": "text"
      },
      "source": [
        "<a href=\"https://colab.research.google.com/github/Vasanta2002/sprint_7/blob/main/JDS_SHR_233_guided_project_notes.ipynb\" target=\"_parent\"><img src=\"https://colab.research.google.com/assets/colab-badge.svg\" alt=\"Open In Colab\"/></a>"
      ]
    },
    {
      "cell_type": "markdown",
      "metadata": {
        "id": "U2ha9OWxf0jw"
      },
      "source": [
        "## BloomTech Data Science\n",
        "\n",
        "---"
      ]
    },
    {
      "cell_type": "markdown",
      "metadata": {
        "id": "-hTictxWYih7"
      },
      "source": [
        "# Permutation & Boosting\n",
        "\n",
        "- Get **permutation importances** for model interpretation and feature selection\n",
        "- Use xgboost for **gradient boosting**"
      ]
    },
    {
      "cell_type": "markdown",
      "metadata": {
        "id": "sUmaaCmCprYw"
      },
      "source": [
        "# Downloading the Tanzania Waterpump Dataset"
      ]
    },
    {
      "cell_type": "markdown",
      "metadata": {
        "id": "jkdEatMkUKa1"
      },
      "source": [
        "Make sure  you only use the dataset that is available through the **DS** **Kaggle Competition**. DO NOT USE any other Tanzania waterpump datasets that you might find online.\n",
        "\n",
        "There are two ways you can get the dataset. Make sure you have joined the competition first!:\n",
        "\n",
        "1. You can download the dataset directly by accessing the challenge and the files through the Kaggle Competition URL on Canvas (make sure you have joined the competition!)\n",
        "\n",
        "2. Use the Kaggle API using the code in the following cells. This article provides helpful information on how to fetch your Kaggle Dataset into Google Colab using the Kaggle API. \n",
        "\n",
        "> https://medium.com/analytics-vidhya/how-to-fetch-kaggle-datasets-into-google-colab-ea682569851a"
      ]
    },
    {
      "cell_type": "markdown",
      "metadata": {
        "id": "d6TZ5nDFYkCa"
      },
      "source": [
        "# Using Kaggle API to download datset"
      ]
    },
    {
      "cell_type": "code",
      "metadata": {
        "colab": {
          "base_uri": "https://localhost:8080/"
        },
        "id": "X2e6fPUATxLZ",
        "outputId": "97747c17-cf39-4cb7-d212-64a471086cf4"
      },
      "source": [
        "# mounting your google drive on colab\n",
        "from google.colab import drive\n",
        "drive.mount('/content/gdrive')"
      ],
      "execution_count": 1,
      "outputs": [
        {
          "output_type": "stream",
          "name": "stdout",
          "text": [
            "Mounted at /content/gdrive\n"
          ]
        }
      ]
    },
    {
      "cell_type": "code",
      "metadata": {
        "colab": {
          "base_uri": "https://localhost:8080/"
        },
        "id": "KYSpUv9uYBAo",
        "outputId": "26d12786-986f-41b8-c80f-68094757f61f"
      },
      "source": [
        "#change your working directory, if you want to or have already saved your kaggle dataset on google drive.\n",
        "%cd /content/gdrive/My Drive/Kaggle\n",
        "# update it to your folder location on drive that contains the dataset and/or kaggle API token json file."
      ],
      "execution_count": 2,
      "outputs": [
        {
          "output_type": "stream",
          "name": "stdout",
          "text": [
            "/content/gdrive/My Drive/Kaggle\n"
          ]
        }
      ]
    },
    {
      "cell_type": "code",
      "metadata": {
        "id": "dXChvgdZYb_t"
      },
      "source": [
        "# Download your Kaggle Dataset, if you haven't already done so. \n",
        "# import os\n",
        "# os.environ['KAGGLE_CONFIG_DIR'] = \"/content/gdrive/My Drive/Kaggle\"\n",
        "# !kaggle competitions download -c bloomtech-water-pump-challenge # double check if this command corresponds with the one given in Canvas"
      ],
      "execution_count": 3,
      "outputs": []
    },
    {
      "cell_type": "code",
      "metadata": {
        "id": "NB84qgRRYdDF"
      },
      "source": [
        "# Unzip your Kaggle dataset, if you haven't already done so.\n",
        "# !unzip \\*.zip  && rm *.zip"
      ],
      "execution_count": 4,
      "outputs": []
    },
    {
      "cell_type": "code",
      "metadata": {
        "colab": {
          "base_uri": "https://localhost:8080/"
        },
        "id": "eag2zYiQYf6q",
        "outputId": "82607a6d-2052-403c-bfb8-6da560bd6ad8"
      },
      "source": [
        "# List all files in your Kaggle folder on your google drive.\n",
        "!ls"
      ],
      "execution_count": 5,
      "outputs": [
        {
          "output_type": "stream",
          "name": "stdout",
          "text": [
            "2023-01-02_1920_submission.csv\t    kaggle.json\t\t   test_features.csv\n",
            "2023-01-04_1727_submission.csv\t    model_rf_rs_80\t   train_features.csv\n",
            "2_new_submission.csv\t\t    new_submission.csv\t   train_labels.csv\n",
            "bloomtech-water-pump-challenge.zip  sample_submission.csv\n"
          ]
        }
      ]
    },
    {
      "cell_type": "markdown",
      "metadata": {
        "id": "qKGp79CErOo-"
      },
      "source": [
        "# Install Libraries"
      ]
    },
    {
      "cell_type": "code",
      "metadata": {
        "id": "wXNKAp0MFnXW"
      },
      "source": [
        "%%capture\n",
        "!pip install category_encoders==2.*"
      ],
      "execution_count": 6,
      "outputs": []
    },
    {
      "cell_type": "code",
      "metadata": {
        "id": "pLiyUNS0Sy-i"
      },
      "source": [
        "# data analysis and wrangling\n",
        "import pandas as pd\n",
        "import numpy as np\n",
        "\n",
        "# visualization\n",
        "import matplotlib.pyplot as plt\n",
        "%matplotlib inline\n",
        "\n",
        "from sklearn.model_selection import train_test_split\n",
        "\n",
        "# encoders\n",
        "from category_encoders import OrdinalEncoder\n",
        "from sklearn.impute import SimpleImputer\n",
        "\n",
        "#pipeline\n",
        "from sklearn.pipeline import make_pipeline\n",
        "\n",
        "# Bagged Model\n",
        "from sklearn.ensemble import RandomForestClassifier\n",
        "\n",
        "# Boosted Models\n",
        "from sklearn.ensemble import GradientBoostingClassifier\n",
        "from xgboost import XGBClassifier \n",
        "\n",
        "# Permutation Importance\n",
        "from sklearn.inspection import permutation_importance \n",
        "\n",
        "# for displaying images and html\n",
        "from IPython.display import Image\n",
        "from IPython.core.display import HTML "
      ],
      "execution_count": 7,
      "outputs": []
    },
    {
      "cell_type": "markdown",
      "metadata": {
        "id": "EfhziD2Wn_iO"
      },
      "source": [
        "# Wrangle Data"
      ]
    },
    {
      "cell_type": "markdown",
      "metadata": {
        "id": "AomWBQncSy-j"
      },
      "source": [
        "We'll go back to Tanzania Waterpumps for this lesson."
      ]
    },
    {
      "cell_type": "code",
      "metadata": {
        "id": "z-TExplb_Slf"
      },
      "source": [
        "def wrangle(fm_path, tv_path=None):\n",
        "    if tv_path:\n",
        "        df = pd.merge(pd.read_csv(fm_path, parse_dates=['date_recorded'], na_values=[-2e-08, 0]), \n",
        "                         pd.read_csv(tv_path)).set_index('date_recorded')\n",
        "\n",
        "    else:\n",
        "        df = pd.read_csv(fm_path, parse_dates=['date_recorded']).set_index('date_recorded')\n",
        "    \n",
        "    # When columns have zeros and shouldn't, they are like null values.\n",
        "    # So we will replace the zeros with nulls, and impute missing values later.\n",
        "    # Also create a \"missing indicator\" column, because of the fact that\n",
        "    # values are missing may be a predictive signal.\n",
        "    cols_with_zeros = ['longitude', 'latitude', 'construction_year', \n",
        "                       'gps_height', 'population']\n",
        "    for col in cols_with_zeros:\n",
        "        df[col] = df[col].replace(0, np.nan)\n",
        "        df[col+'_MISSING'] = df[col].isnull()\n",
        "            \n",
        "    # Drop duplicate columns\n",
        "    duplicates = ['quantity_group', 'payment_type']\n",
        "    df = df.drop(columns=duplicates)\n",
        "    \n",
        "    # Drop recorded_by (never varies) and id (always varies, random)\n",
        "    unusable_variance = ['recorded_by', 'id']\n",
        "    df = df.drop(columns=unusable_variance)\n",
        "    \n",
        "    # Extract components from date_recorded\n",
        "    df['year_recorded'] = df.index.year\n",
        "    df['month_recorded'] = df.index.month\n",
        "    df['day_recorded'] = df.index.day\n",
        "\n",
        "    # Engineer feature: how many years from construction_year to date_recorded\n",
        "    df['pump_age'] = df['year_recorded'] - df['construction_year']\n",
        "    df['years_MISSING'] = df['pump_age'].isnull()\n",
        "    \n",
        "    # return the wrangled dataframe\n",
        "    return df"
      ],
      "execution_count": 8,
      "outputs": []
    },
    {
      "cell_type": "code",
      "metadata": {
        "id": "5Ik6YLCOSy-j"
      },
      "source": [
        "fm_path = 'train_features.csv'\n",
        "tv_path = 'train_labels.csv'\n",
        "\n",
        "df = wrangle(fm_path, tv_path)"
      ],
      "execution_count": 9,
      "outputs": []
    },
    {
      "cell_type": "code",
      "metadata": {
        "id": "BSCa9nPnSy-k"
      },
      "source": [
        "# Split data into feature and target \n",
        "target = 'status_group'\n",
        "X,y = df.drop(columns = target), df[target]"
      ],
      "execution_count": 10,
      "outputs": []
    },
    {
      "cell_type": "code",
      "metadata": {
        "id": "mYLn6NLESy-k"
      },
      "source": [
        "# Split data into train, validation and test sets\n",
        "X_train, X_val, y_train, y_val = train_test_split(X, y, train_size=0.80, test_size=0.20, random_state=42)"
      ],
      "execution_count": 11,
      "outputs": []
    },
    {
      "cell_type": "code",
      "metadata": {
        "id": "mxOEAYnUSy-k",
        "outputId": "2a5dab6e-12cd-4bb6-a2e6-e18dd860457b",
        "colab": {
          "base_uri": "https://localhost:8080/"
        }
      },
      "source": [
        "# Baseline Metric\n",
        "print('The baseline accuracy is ', y_train.value_counts(normalize=True).max())"
      ],
      "execution_count": 12,
      "outputs": [
        {
          "output_type": "stream",
          "name": "stdout",
          "text": [
            "The baseline accuracy is  0.5425489938182296\n"
          ]
        }
      ]
    },
    {
      "cell_type": "markdown",
      "metadata": {
        "id": "A3jiNoOEgIbi"
      },
      "source": [
        "# Build Model"
      ]
    },
    {
      "cell_type": "code",
      "source": [
        "# Random Forest Model\n",
        "\n",
        "model_rf = make_pipeline(\n",
        "    OrdinalEncoder(), \n",
        "    SimpleImputer(strategy='median'), \n",
        "    RandomForestClassifier(random_state=42, n_jobs=-1,n_estimators=75)\n",
        ")\n",
        "\n",
        "# Fit on train, score on val\n",
        "model_rf.fit(X_train, y_train);"
      ],
      "metadata": {
        "id": "9ttetGUElX8-"
      },
      "execution_count": 15,
      "outputs": []
    },
    {
      "cell_type": "code",
      "source": [
        "# Gradient Boosted Model\n",
        "\n",
        "model_gb = make_pipeline(\n",
        "    OrdinalEncoder(),\n",
        "    SimpleImputer(strategy='mean'),\n",
        "    GradientBoostingClassifier(random_state=42,n_estimators=75)\n",
        ")\n",
        "\n",
        "model_gb.fit(X_train,y_train);"
      ],
      "metadata": {
        "id": "5nGicyaLlX3V"
      },
      "execution_count": 14,
      "outputs": []
    },
    {
      "cell_type": "code",
      "source": [
        "# XGB Model\n",
        "\n",
        "model_xgb = make_pipeline(\n",
        "    OrdinalEncoder(),\n",
        "    SimpleImputer(strategy='mean'),\n",
        "    XGBClassifier(random_state=42,n_estimators=75, n_jobs=-1)\n",
        ")\n",
        "\n",
        "model_xgb.fit(X_train,y_train);"
      ],
      "metadata": {
        "id": "G9jhk-ylPJ8-"
      },
      "execution_count": 16,
      "outputs": []
    },
    {
      "cell_type": "markdown",
      "metadata": {
        "id": "qfmiBiimgIbj"
      },
      "source": [
        "# Check Metrics"
      ]
    },
    {
      "cell_type": "code",
      "source": [
        "print('Training Accuracy', model_rf.score(X_train, y_train))\n",
        "print('Validation Accuracy', model_rf.score(X_val, y_val))"
      ],
      "metadata": {
        "id": "9r2ePpByPSZy",
        "outputId": "ae483b68-bbae-49e2-e453-fc25dca218dd",
        "colab": {
          "base_uri": "https://localhost:8080/"
        }
      },
      "execution_count": 17,
      "outputs": [
        {
          "output_type": "stream",
          "name": "stdout",
          "text": [
            "Training Accuracy 0.9999210837827174\n",
            "Validation Accuracy 0.8032407407407407\n"
          ]
        }
      ]
    },
    {
      "cell_type": "code",
      "metadata": {
        "id": "m8lB4z5l_eml",
        "outputId": "88d89dca-bc7f-49fe-fc67-31893a19e374",
        "colab": {
          "base_uri": "https://localhost:8080/"
        }
      },
      "source": [
        "print('Training Accuracy', model_gb.score(X_train, y_train))\n",
        "print('Validation Accuracy', model_gb.score(X_val, y_val))"
      ],
      "execution_count": 18,
      "outputs": [
        {
          "output_type": "stream",
          "name": "stdout",
          "text": [
            "Training Accuracy 0.7537550966723662\n",
            "Validation Accuracy 0.7429503367003367\n"
          ]
        }
      ]
    },
    {
      "cell_type": "code",
      "metadata": {
        "id": "tmLrHQlMSy-m",
        "outputId": "06c26b28-401e-4a51-dcc1-489b2bf091e7",
        "colab": {
          "base_uri": "https://localhost:8080/"
        }
      },
      "source": [
        "print('Training Accuracy', model_xgb.score(X_train, y_train))\n",
        "print('Validation Accuracy', model_xgb.score(X_val, y_val))"
      ],
      "execution_count": 19,
      "outputs": [
        {
          "output_type": "stream",
          "name": "stdout",
          "text": [
            "Training Accuracy 0.7457582533210575\n",
            "Validation Accuracy 0.7376893939393939\n"
          ]
        }
      ]
    },
    {
      "cell_type": "markdown",
      "metadata": {
        "id": "ZF7-ml6BhRRf"
      },
      "source": [
        "### Try adjusting these hyperparameters\n",
        "\n",
        "#### Random Forest\n",
        "- class_weight (for imbalanced classes)\n",
        "- max_depth (usually high, can try decreasing)\n",
        "- n_estimators (too low underfits, too high wastes time)\n",
        "- min_samples_leaf (increase if overfitting)\n",
        "- max_features (decrease for more diverse trees)\n",
        "\n",
        "#### Xgboost\n",
        "- scale_pos_weight (for imbalanced classes)\n",
        "- max_depth (usually low, can try increasing)\n",
        "- n_estimators (too low underfits, too high wastes time/overfits) — Use Early Stopping!\n",
        "- learning_rate (too low underfits, too high overfits)\n",
        "\n",
        "For more ideas, see [Notes on Parameter Tuning](https://xgboost.readthedocs.io/en/latest/tutorials/param_tuning.html) and [DART booster](https://xgboost.readthedocs.io/en/latest/tutorials/dart.html)."
      ]
    },
    {
      "cell_type": "markdown",
      "metadata": {
        "id": "djCjZ5WBgIbk"
      },
      "source": [
        "# Tuning / Communication\n",
        "\n",
        "- How can we determine or communicate which features are most important to our model when making predictions?"
      ]
    },
    {
      "cell_type": "markdown",
      "metadata": {
        "id": "JvFQRNbSTwle"
      },
      "source": [
        "**Option 1:** Grab feature importances from our pipeline\n"
      ]
    },
    {
      "cell_type": "code",
      "metadata": {
        "id": "bgTWgFV6MaTW",
        "outputId": "5ab0f6fc-15a7-4c08-9c05-8e5654bf6e0d",
        "colab": {
          "base_uri": "https://localhost:8080/",
          "height": 296
        }
      },
      "source": [
        "importances = model_xgb.named_steps['xgbclassifier'].feature_importances_\n",
        "feature_names = X_train.columns\n",
        "feat_imp = pd.Series(data=importances, index=feature_names).sort_values()\n",
        "feat_imp.tail(10).plot(kind='barh')\n",
        "plt.xlabel('Gini Importance')\n",
        "plt.ylabel('Feature')"
      ],
      "execution_count": 23,
      "outputs": [
        {
          "output_type": "execute_result",
          "data": {
            "text/plain": [
              "Text(0, 0.5, 'Feature')"
            ]
          },
          "metadata": {},
          "execution_count": 23
        },
        {
          "output_type": "display_data",
          "data": {
            "text/plain": [
              "<Figure size 432x288 with 1 Axes>"
            ],
            "image/png": "[encoded data removed]"
          },
          "metadata": {
            "needs_background": "light"
          }
        }
      ]
    },
    {
      "cell_type": "markdown",
      "metadata": {
        "id": "XN3aL3FeT-fC"
      },
      "source": [
        "**Option 2:** Drop-column Importance\n"
      ]
    },
    {
      "cell_type": "code",
      "source": [
        "selected_column = 'quantity'"
      ],
      "metadata": {
        "id": "bo-aZhrYmdL_"
      },
      "execution_count": 30,
      "outputs": []
    },
    {
      "cell_type": "code",
      "source": [
        "model_with_col = make_pipeline(\n",
        "    OrdinalEncoder(),\n",
        "    SimpleImputer(),\n",
        "    XGBClassifier(n_estimators=75,\n",
        "                  random_state=42,\n",
        "                  n_jobs=-1,)\n",
        ")\n",
        "\n",
        "model_with_col.fit(X_train, y_train);\n",
        "\n",
        "print(f'Validation Accuracy w/ \"{selected_column}\" included:', model_with_col.score(X_val, y_val))"
      ],
      "metadata": {
        "id": "eohb8YLqmdDl",
        "outputId": "354d1206-d28d-49f2-f989-a1b278aa7ec7",
        "colab": {
          "base_uri": "https://localhost:8080/"
        }
      },
      "execution_count": 28,
      "outputs": [
        {
          "output_type": "stream",
          "name": "stdout",
          "text": [
            "Validation Accuracy w/ \"quality\" included: 0.7376893939393939\n"
          ]
        }
      ]
    },
    {
      "cell_type": "code",
      "source": [
        "model_without_col = make_pipeline(\n",
        "    OrdinalEncoder(),\n",
        "    SimpleImputer(),\n",
        "    XGBClassifier(n_estimators=75,\n",
        "                  random_state=42,\n",
        "                  n_jobs=-1,)\n",
        ")\n",
        "\n",
        "model_without_col.fit(X_train.drop(columns=selected_column), y_train);\n",
        "\n",
        "\n",
        "\n",
        "print(f'Validation Accuracy w/ \"{selected_column}\" excluded:',model_without_col.score(X_val.drop(columns=selected_column),y_val) )"
      ],
      "metadata": {
        "id": "bda1KdZZmcqt",
        "outputId": "9d2b6e39-5b47-43ea-9a3c-771029be9647",
        "colab": {
          "base_uri": "https://localhost:8080/"
        }
      },
      "execution_count": 33,
      "outputs": [
        {
          "output_type": "stream",
          "name": "stdout",
          "text": [
            "Validation Accuracy w/ \"quantity\" excluded: 0.7057028619528619\n"
          ]
        }
      ]
    },
    {
      "cell_type": "code",
      "source": [],
      "metadata": {
        "id": "-ya23IUpmcjV"
      },
      "execution_count": null,
      "outputs": []
    },
    {
      "cell_type": "markdown",
      "metadata": {
        "id": "XLhviblHgIbn"
      },
      "source": [
        "**Option 3:** Permutation Importance"
      ]
    },
    {
      "cell_type": "code",
      "metadata": {
        "id": "ujFhmvghMPqW",
        "colab": {
          "base_uri": "https://localhost:8080/",
          "height": 328
        },
        "outputId": "b3449495-cfe7-483f-8d23-a70b4ff600f5"
      },
      "source": [
        "Image(url= \"https://i.imgur.com/h17tMUU.png\")"
      ],
      "execution_count": null,
      "outputs": [
        {
          "output_type": "execute_result",
          "data": {
            "text/html": [
              "<img src=\"https://i.imgur.com/h17tMUU.png\"/>"
            ],
            "text/plain": [
              "<IPython.core.display.Image object>"
            ]
          },
          "metadata": {},
          "execution_count": 6
        }
      ]
    },
    {
      "cell_type": "code",
      "source": [
        "# By hand\n",
        "\n",
        "# Step 1: Choose my feature\n",
        "column_to_permute = 'quantity'\n",
        "\n",
        "# Step 2: Train model w/ ALL features\n",
        "model_to_permute = make_pipeline(\n",
        "    OrdinalEncoder(),\n",
        "    SimpleImputer(),\n",
        "    XGBClassifier(n_estimators=75,\n",
        "                  random_state=42,\n",
        "                  n_jobs=-1,)\n",
        ")\n",
        "\n",
        "model_to_permute.fit(X_train, y_train);"
      ],
      "metadata": {
        "id": "NESnUf2WQQTN"
      },
      "execution_count": 34,
      "outputs": []
    },
    {
      "cell_type": "code",
      "source": [
        "# Step 3: Evaluate model using VALIDATION DATA.\n",
        "print('Validation Accuracy', model_to_permute.score(X_val, y_val))"
      ],
      "metadata": {
        "id": "4ux4hkWWQQJK",
        "outputId": "89e233dd-5728-43c6-f94d-eac6a7f917ba",
        "colab": {
          "base_uri": "https://localhost:8080/"
        }
      },
      "execution_count": 35,
      "outputs": [
        {
          "output_type": "stream",
          "name": "stdout",
          "text": [
            "Validation Accuracy 0.7376893939393939\n"
          ]
        }
      ]
    },
    {
      "cell_type": "code",
      "source": [
        "# Step 4: In VALIDATION DATA, permute the feature we're evaluating\n",
        "X_val_perm = X_val.copy()\n",
        "X_val[column_to_permute] = np.random.permutation(X_val[column_to_permute])"
      ],
      "metadata": {
        "id": "h1hPgbaHQaF8"
      },
      "execution_count": 40,
      "outputs": []
    },
    {
      "cell_type": "code",
      "source": [
        "# Step 5: Calculate our error metric with the permuted data \n",
        "print('Validation Accuracy', model_to_permute.score(X_val_perm, y_val))"
      ],
      "metadata": {
        "id": "I2Q-EQZMQeFe",
        "outputId": "e15324c7-2a49-4569-dbfe-97bdbe55cdc8",
        "colab": {
          "base_uri": "https://localhost:8080/"
        }
      },
      "execution_count": 41,
      "outputs": [
        {
          "output_type": "stream",
          "name": "stdout",
          "text": [
            "Validation Accuracy 0.6465698653198653\n"
          ]
        }
      ]
    },
    {
      "cell_type": "code",
      "source": [
        "# Automated using sklearn\n",
        "\n",
        "perm_imp = permutation_importance(model_to_permute,X_val,y_val,random_state=42) #n_repeats=5"
      ],
      "metadata": {
        "id": "w2qYc0aAP9pQ"
      },
      "execution_count": 49,
      "outputs": []
    },
    {
      "cell_type": "code",
      "source": [
        "perm_imp"
      ],
      "metadata": {
        "id": "BWrWCtO4P9mh",
        "outputId": "8d2eabad-199a-4dda-e314-443d78a88906",
        "colab": {
          "base_uri": "https://localhost:8080/"
        }
      },
      "execution_count": 43,
      "outputs": [
        {
          "output_type": "execute_result",
          "data": {
            "text/plain": [
              "{'importances_mean': array([ 2.10437710e-04,  4.96632997e-03,  2.12542088e-03,  1.89393939e-04,\n",
              "         4.54545455e-03,  9.68013468e-04,  0.00000000e+00,  0.00000000e+00,\n",
              "         1.19949495e-03,  6.31313131e-05,  2.33585859e-03,  2.08333333e-03,\n",
              "         3.99831650e-04,  2.54629630e-03,  3.99831650e-04,  4.33501684e-03,\n",
              "         1.05218855e-03,  7.99663300e-04,  1.22053872e-03,  8.83838384e-04,\n",
              "         4.58754209e-03,  4.27188552e-03, -3.36700337e-04,  8.01767677e-03,\n",
              "         2.60942761e-03,  1.26262626e-04,  1.85185185e-02,  4.62962963e-04,\n",
              "         3.57744108e-04,  3.85101010e-03,  1.89393939e-03, -3.36700337e-04,\n",
              "        -2.52525253e-04,  2.83670034e-02,  0.00000000e+00,  7.15488215e-04,\n",
              "         0.00000000e+00,  1.26262626e-04,  6.31313131e-05,  0.00000000e+00,\n",
              "         4.20875421e-05,  2.94612795e-04,  6.94444444e-04,  6.37626263e-03,\n",
              "         0.00000000e+00]),\n",
              " 'importances_std': array([3.76442420e-04, 9.34968851e-04, 7.33217651e-04, 1.22705217e-04,\n",
              "        5.12881212e-04, 3.14954325e-04, 0.00000000e+00, 0.00000000e+00,\n",
              "        2.16658883e-04, 5.15465013e-05, 4.17706928e-04, 7.71477390e-04,\n",
              "        3.60825509e-04, 4.77095288e-04, 4.20875421e-05, 4.33317767e-04,\n",
              "        5.64663631e-04, 5.55172810e-04, 5.05050505e-04, 1.57477163e-04,\n",
              "        5.74768530e-04, 1.42041557e-03, 1.81025363e-04, 1.14760928e-03,\n",
              "        7.77196352e-04, 4.20875421e-05, 1.15069218e-03, 1.42725799e-04,\n",
              "        1.57477163e-04, 1.47996220e-03, 6.81896117e-04, 2.43599261e-04,\n",
              "        4.54272583e-04, 1.59099816e-03, 0.00000000e+00, 2.04026930e-04,\n",
              "        0.00000000e+00, 7.87385814e-05, 1.57477163e-04, 0.00000000e+00,\n",
              "        8.41750842e-05, 1.22705217e-04, 8.41750842e-05, 7.74913832e-04,\n",
              "        0.00000000e+00]),\n",
              " 'importances': array([[ 0.00042088,  0.00031566, -0.00052609,  0.00031566,  0.00052609],\n",
              "        [ 0.00420875,  0.00652357,  0.00420875,  0.0055766 ,  0.00431397],\n",
              "        [ 0.00147306,  0.0022096 ,  0.00315657,  0.00263047,  0.00115741],\n",
              "        [ 0.        ,  0.00010522,  0.00021044,  0.00031566,  0.00031566],\n",
              "        [ 0.00484007,  0.00515572,  0.00378788,  0.00410354,  0.00484007],\n",
              "        [ 0.00136785,  0.00094697,  0.00094697,  0.00115741,  0.00042088],\n",
              "        [ 0.        ,  0.        ,  0.        ,  0.        ,  0.        ],\n",
              "        [ 0.        ,  0.        ,  0.        ,  0.        ,  0.        ],\n",
              "        [ 0.00136785,  0.00094697,  0.00094697,  0.00147306,  0.00126263],\n",
              "        [ 0.        ,  0.00010522,  0.00010522,  0.00010522,  0.        ],\n",
              "        [ 0.00284091,  0.00189394,  0.00252525,  0.00178872,  0.00263047],\n",
              "        [ 0.00252525,  0.00136785,  0.00105219,  0.00231481,  0.00315657],\n",
              "        [ 0.00021044,  0.00010522,  0.00105219,  0.00052609,  0.00010522],\n",
              "        [ 0.00305135,  0.00210438,  0.00263047,  0.00305135,  0.00189394],\n",
              "        [ 0.00031566,  0.00042088,  0.00042088,  0.00042088,  0.00042088],\n",
              "        [ 0.00431397,  0.00410354,  0.00462963,  0.00368266,  0.00494529],\n",
              "        [ 0.00010522,  0.00157828,  0.00157828,  0.00073653,  0.00126263],\n",
              "        [ 0.00063131,  0.0016835 ,  0.00105219,  0.00063131,  0.        ],\n",
              "        [ 0.00063131,  0.00189394,  0.00063131,  0.00147306,  0.00147306],\n",
              "        [ 0.00084175,  0.00115741,  0.00073653,  0.00094697,  0.00073653],\n",
              "        [ 0.00505051,  0.00505051,  0.00431397,  0.00357744,  0.00494529],\n",
              "        [ 0.00462963,  0.00378788,  0.00484007,  0.00189394,  0.00620791],\n",
              "        [-0.00031566, -0.00042088, -0.00052609,  0.        , -0.00042088],\n",
              "        [ 0.00820707,  0.00768098,  0.00915404,  0.00599747,  0.00904882],\n",
              "        [ 0.0022096 ,  0.00199916,  0.00326178,  0.00178872,  0.00378788],\n",
              "        [ 0.00021044,  0.00010522,  0.00010522,  0.00010522,  0.00010522],\n",
              "        [ 0.01830808,  0.01830808,  0.01746633,  0.01778199,  0.02072811],\n",
              "        [ 0.00031566,  0.00063131,  0.00063131,  0.00031566,  0.00042088],\n",
              "        [ 0.00042088,  0.00031566,  0.00021044,  0.00063131,  0.00021044],\n",
              "        [ 0.00452441,  0.00368266,  0.00494529,  0.00505051,  0.00105219],\n",
              "        [ 0.00242003,  0.00126263,  0.00094697,  0.00210438,  0.00273569],\n",
              "        [-0.00063131, -0.00031566, -0.00042088,  0.00010522, -0.00042088],\n",
              "        [-0.00031566,  0.00031566,  0.00021044, -0.00063131, -0.00084175],\n",
              "        [ 0.03040825,  0.02640993,  0.02988215,  0.02683081,  0.02830387],\n",
              "        [ 0.        ,  0.        ,  0.        ,  0.        ,  0.        ],\n",
              "        [ 0.00063131,  0.00105219,  0.00073653,  0.00042088,  0.00073653],\n",
              "        [ 0.        ,  0.        ,  0.        ,  0.        ,  0.        ],\n",
              "        [ 0.00010522,  0.00021044,  0.00010522,  0.00021044,  0.        ],\n",
              "        [-0.00010522,  0.00010522,  0.00010522,  0.00031566, -0.00010522],\n",
              "        [ 0.        ,  0.        ,  0.        ,  0.        ,  0.        ],\n",
              "        [ 0.00010522,  0.00010522, -0.00010522,  0.00010522,  0.        ],\n",
              "        [ 0.00042088,  0.00021044,  0.00010522,  0.00042088,  0.00031566],\n",
              "        [ 0.00063131,  0.00084175,  0.00063131,  0.00063131,  0.00073653],\n",
              "        [ 0.00547138,  0.00547138,  0.00662879,  0.00694444,  0.00736532],\n",
              "        [ 0.        ,  0.        ,  0.        ,  0.        ,  0.        ]])}"
            ]
          },
          "metadata": {},
          "execution_count": 43
        }
      ]
    },
    {
      "cell_type": "code",
      "source": [
        "data_perm = {'imp_mean':perm_imp['importances_mean'],\n",
        "             'imp_std':perm_imp['importances_std']}\n",
        "df_perm = pd.DataFrame(data_perm, index=X_val.columns).sort_values('imp_mean')"
      ],
      "metadata": {
        "id": "ocMn9FFDP-AC"
      },
      "execution_count": 50,
      "outputs": []
    },
    {
      "cell_type": "code",
      "source": [
        "df_perm"
      ],
      "metadata": {
        "id": "MfRMVXpFP_uq",
        "outputId": "2f0497ae-042f-4ec7-da3e-329a22b6bad3",
        "colab": {
          "base_uri": "https://localhost:8080/",
          "height": 1000
        }
      },
      "execution_count": 51,
      "outputs": [
        {
          "output_type": "execute_result",
          "data": {
            "text/plain": [
              "                           imp_mean   imp_std\n",
              "extraction_type_group     -0.000337  0.000181\n",
              "source_type               -0.000337  0.000244\n",
              "source_class              -0.000253  0.000454\n",
              "population_MISSING         0.000000  0.000000\n",
              "latitude_MISSING           0.000000  0.000000\n",
              "waterpoint_type_group      0.000000  0.000000\n",
              "num_private                0.000000  0.000000\n",
              "years_MISSING              0.000000  0.000000\n",
              "wpt_name                   0.000000  0.000000\n",
              "year_recorded              0.000042  0.000084\n",
              "subvillage                 0.000063  0.000052\n",
              "gps_height_MISSING         0.000063  0.000157\n",
              "construction_year_MISSING  0.000126  0.000079\n",
              "management_group           0.000126  0.000042\n",
              "installer                  0.000189  0.000123\n",
              "amount_tsh                 0.000210  0.000376\n",
              "month_recorded             0.000295  0.000123\n",
              "quality_group              0.000358  0.000157\n",
              "district_code              0.000400  0.000361\n",
              "ward                       0.000400  0.000042\n",
              "water_quality              0.000463  0.000143\n",
              "day_recorded               0.000694  0.000084\n",
              "longitude_MISSING          0.000715  0.000204\n",
              "scheme_management          0.000800  0.000555\n",
              "permit                     0.000884  0.000157\n",
              "latitude                   0.000968  0.000315\n",
              "public_meeting             0.001052  0.000565\n",
              "basin                      0.001199  0.000217\n",
              "scheme_name                0.001221  0.000505\n",
              "source                     0.001894  0.000682\n",
              "region_code                0.002083  0.000771\n",
              "gps_height                 0.002125  0.000733\n",
              "region                     0.002336  0.000418\n",
              "lga                        0.002546  0.000477\n",
              "management                 0.002609  0.000777\n",
              "quantity                   0.003851  0.001480\n",
              "extraction_type            0.004272  0.001420\n",
              "population                 0.004335  0.000433\n",
              "longitude                  0.004545  0.000513\n",
              "construction_year          0.004588  0.000575\n",
              "funder                     0.004966  0.000935\n",
              "pump_age                   0.006376  0.000775\n",
              "extraction_type_class      0.008018  0.001148\n",
              "payment                    0.018519  0.001151\n",
              "waterpoint_type            0.028367  0.001591"
            ],
            "text/html": [
              "\n",
              "  <div id=\"df-5ee3aedb-f145-4385-a499-9033c8146c7c\">\n",
              "    <div class=\"colab-df-container\">\n",
              "      <div>\n",
              "<style scoped>\n",
              "    .dataframe tbody tr th:only-of-type {\n",
              "        vertical-align: middle;\n",
              "    }\n",
              "\n",
              "    .dataframe tbody tr th {\n",
              "        vertical-align: top;\n",
              "    }\n",
              "\n",
              "    .dataframe thead th {\n",
              "        text-align: right;\n",
              "    }\n",
              "</style>\n",
              "<table border=\"1\" class=\"dataframe\">\n",
              "  <thead>\n",
              "    <tr style=\"text-align: right;\">\n",
              "      <th></th>\n",
              "      <th>imp_mean</th>\n",
              "      <th>imp_std</th>\n",
              "    </tr>\n",
              "  </thead>\n",
              "  <tbody>\n",
              "    <tr>\n",
              "      <th>extraction_type_group</th>\n",
              "      <td>-0.000337</td>\n",
              "      <td>0.000181</td>\n",
              "    </tr>\n",
              "    <tr>\n",
              "      <th>source_type</th>\n",
              "      <td>-0.000337</td>\n",
              "      <td>0.000244</td>\n",
              "    </tr>\n",
              "    <tr>\n",
              "      <th>source_class</th>\n",
              "      <td>-0.000253</td>\n",
              "      <td>0.000454</td>\n",
              "    </tr>\n",
              "    <tr>\n",
              "      <th>population_MISSING</th>\n",
              "      <td>0.000000</td>\n",
              "      <td>0.000000</td>\n",
              "    </tr>\n",
              "    <tr>\n",
              "      <th>latitude_MISSING</th>\n",
              "      <td>0.000000</td>\n",
              "      <td>0.000000</td>\n",
              "    </tr>\n",
              "    <tr>\n",
              "      <th>waterpoint_type_group</th>\n",
              "      <td>0.000000</td>\n",
              "      <td>0.000000</td>\n",
              "    </tr>\n",
              "    <tr>\n",
              "      <th>num_private</th>\n",
              "      <td>0.000000</td>\n",
              "      <td>0.000000</td>\n",
              "    </tr>\n",
              "    <tr>\n",
              "      <th>years_MISSING</th>\n",
              "      <td>0.000000</td>\n",
              "      <td>0.000000</td>\n",
              "    </tr>\n",
              "    <tr>\n",
              "      <th>wpt_name</th>\n",
              "      <td>0.000000</td>\n",
              "      <td>0.000000</td>\n",
              "    </tr>\n",
              "    <tr>\n",
              "      <th>year_recorded</th>\n",
              "      <td>0.000042</td>\n",
              "      <td>0.000084</td>\n",
              "    </tr>\n",
              "    <tr>\n",
              "      <th>subvillage</th>\n",
              "      <td>0.000063</td>\n",
              "      <td>0.000052</td>\n",
              "    </tr>\n",
              "    <tr>\n",
              "      <th>gps_height_MISSING</th>\n",
              "      <td>0.000063</td>\n",
              "      <td>0.000157</td>\n",
              "    </tr>\n",
              "    <tr>\n",
              "      <th>construction_year_MISSING</th>\n",
              "      <td>0.000126</td>\n",
              "      <td>0.000079</td>\n",
              "    </tr>\n",
              "    <tr>\n",
              "      <th>management_group</th>\n",
              "      <td>0.000126</td>\n",
              "      <td>0.000042</td>\n",
              "    </tr>\n",
              "    <tr>\n",
              "      <th>installer</th>\n",
              "      <td>0.000189</td>\n",
              "      <td>0.000123</td>\n",
              "    </tr>\n",
              "    <tr>\n",
              "      <th>amount_tsh</th>\n",
              "      <td>0.000210</td>\n",
              "      <td>0.000376</td>\n",
              "    </tr>\n",
              "    <tr>\n",
              "      <th>month_recorded</th>\n",
              "      <td>0.000295</td>\n",
              "      <td>0.000123</td>\n",
              "    </tr>\n",
              "    <tr>\n",
              "      <th>quality_group</th>\n",
              "      <td>0.000358</td>\n",
              "      <td>0.000157</td>\n",
              "    </tr>\n",
              "    <tr>\n",
              "      <th>district_code</th>\n",
              "      <td>0.000400</td>\n",
              "      <td>0.000361</td>\n",
              "    </tr>\n",
              "    <tr>\n",
              "      <th>ward</th>\n",
              "      <td>0.000400</td>\n",
              "      <td>0.000042</td>\n",
              "    </tr>\n",
              "    <tr>\n",
              "      <th>water_quality</th>\n",
              "      <td>0.000463</td>\n",
              "      <td>0.000143</td>\n",
              "    </tr>\n",
              "    <tr>\n",
              "      <th>day_recorded</th>\n",
              "      <td>0.000694</td>\n",
              "      <td>0.000084</td>\n",
              "    </tr>\n",
              "    <tr>\n",
              "      <th>longitude_MISSING</th>\n",
              "      <td>0.000715</td>\n",
              "      <td>0.000204</td>\n",
              "    </tr>\n",
              "    <tr>\n",
              "      <th>scheme_management</th>\n",
              "      <td>0.000800</td>\n",
              "      <td>0.000555</td>\n",
              "    </tr>\n",
              "    <tr>\n",
              "      <th>permit</th>\n",
              "      <td>0.000884</td>\n",
              "      <td>0.000157</td>\n",
              "    </tr>\n",
              "    <tr>\n",
              "      <th>latitude</th>\n",
              "      <td>0.000968</td>\n",
              "      <td>0.000315</td>\n",
              "    </tr>\n",
              "    <tr>\n",
              "      <th>public_meeting</th>\n",
              "      <td>0.001052</td>\n",
              "      <td>0.000565</td>\n",
              "    </tr>\n",
              "    <tr>\n",
              "      <th>basin</th>\n",
              "      <td>0.001199</td>\n",
              "      <td>0.000217</td>\n",
              "    </tr>\n",
              "    <tr>\n",
              "      <th>scheme_name</th>\n",
              "      <td>0.001221</td>\n",
              "      <td>0.000505</td>\n",
              "    </tr>\n",
              "    <tr>\n",
              "      <th>source</th>\n",
              "      <td>0.001894</td>\n",
              "      <td>0.000682</td>\n",
              "    </tr>\n",
              "    <tr>\n",
              "      <th>region_code</th>\n",
              "      <td>0.002083</td>\n",
              "      <td>0.000771</td>\n",
              "    </tr>\n",
              "    <tr>\n",
              "      <th>gps_height</th>\n",
              "      <td>0.002125</td>\n",
              "      <td>0.000733</td>\n",
              "    </tr>\n",
              "    <tr>\n",
              "      <th>region</th>\n",
              "      <td>0.002336</td>\n",
              "      <td>0.000418</td>\n",
              "    </tr>\n",
              "    <tr>\n",
              "      <th>lga</th>\n",
              "      <td>0.002546</td>\n",
              "      <td>0.000477</td>\n",
              "    </tr>\n",
              "    <tr>\n",
              "      <th>management</th>\n",
              "      <td>0.002609</td>\n",
              "      <td>0.000777</td>\n",
              "    </tr>\n",
              "    <tr>\n",
              "      <th>quantity</th>\n",
              "      <td>0.003851</td>\n",
              "      <td>0.001480</td>\n",
              "    </tr>\n",
              "    <tr>\n",
              "      <th>extraction_type</th>\n",
              "      <td>0.004272</td>\n",
              "      <td>0.001420</td>\n",
              "    </tr>\n",
              "    <tr>\n",
              "      <th>population</th>\n",
              "      <td>0.004335</td>\n",
              "      <td>0.000433</td>\n",
              "    </tr>\n",
              "    <tr>\n",
              "      <th>longitude</th>\n",
              "      <td>0.004545</td>\n",
              "      <td>0.000513</td>\n",
              "    </tr>\n",
              "    <tr>\n",
              "      <th>construction_year</th>\n",
              "      <td>0.004588</td>\n",
              "      <td>0.000575</td>\n",
              "    </tr>\n",
              "    <tr>\n",
              "      <th>funder</th>\n",
              "      <td>0.004966</td>\n",
              "      <td>0.000935</td>\n",
              "    </tr>\n",
              "    <tr>\n",
              "      <th>pump_age</th>\n",
              "      <td>0.006376</td>\n",
              "      <td>0.000775</td>\n",
              "    </tr>\n",
              "    <tr>\n",
              "      <th>extraction_type_class</th>\n",
              "      <td>0.008018</td>\n",
              "      <td>0.001148</td>\n",
              "    </tr>\n",
              "    <tr>\n",
              "      <th>payment</th>\n",
              "      <td>0.018519</td>\n",
              "      <td>0.001151</td>\n",
              "    </tr>\n",
              "    <tr>\n",
              "      <th>waterpoint_type</th>\n",
              "      <td>0.028367</td>\n",
              "      <td>0.001591</td>\n",
              "    </tr>\n",
              "  </tbody>\n",
              "</table>\n",
              "</div>\n",
              "      <button class=\"colab-df-convert\" onclick=\"convertToInteractive('df-5ee3aedb-f145-4385-a499-9033c8146c7c')\"\n",
              "              title=\"Convert this dataframe to an interactive table.\"\n",
              "              style=\"display:none;\">\n",
              "        \n",
              "  <svg xmlns=\"http://www.w3.org/2000/svg\" height=\"24px\"viewBox=\"0 0 24 24\"\n",
              "       width=\"24px\">\n",
              "    <path d=\"M0 0h24v24H0V0z\" fill=\"none\"/>\n",
              "    <path d=\"M18.56 5.44l.94 2.06.94-2.06 2.06-.94-2.06-.94-.94-2.06-.94 2.06-2.06.94zm-11 1L8.5 8.5l.94-2.06 2.06-.94-2.06-.94L8.5 2.5l-.94 2.06-2.06.94zm10 10l.94 2.06.94-2.06 2.06-.94-2.06-.94-.94-2.06-.94 2.06-2.06.94z\"/><path d=\"M17.41 7.96l-1.37-1.37c-.4-.4-.92-.59-1.43-.59-.52 0-1.04.2-1.43.59L10.3 9.45l-7.72 7.72c-.78.78-.78 2.05 0 2.83L4 21.41c.39.39.9.59 1.41.59.51 0 1.02-.2 1.41-.59l7.78-7.78 2.81-2.81c.8-.78.8-2.07 0-2.86zM5.41 20L4 18.59l7.72-7.72 1.47 1.35L5.41 20z\"/>\n",
              "  </svg>\n",
              "      </button>\n",
              "      \n",
              "  <style>\n",
              "    .colab-df-container {\n",
              "      display:flex;\n",
              "      flex-wrap:wrap;\n",
              "      gap: 12px;\n",
              "    }\n",
              "\n",
              "    .colab-df-convert {\n",
              "      background-color: #E8F0FE;\n",
              "      border: none;\n",
              "      border-radius: 50%;\n",
              "      cursor: pointer;\n",
              "      display: none;\n",
              "      fill: #1967D2;\n",
              "      height: 32px;\n",
              "      padding: 0 0 0 0;\n",
              "      width: 32px;\n",
              "    }\n",
              "\n",
              "    .colab-df-convert:hover {\n",
              "      background-color: #E2EBFA;\n",
              "      box-shadow: 0px 1px 2px rgba(60, 64, 67, 0.3), 0px 1px 3px 1px rgba(60, 64, 67, 0.15);\n",
              "      fill: #174EA6;\n",
              "    }\n",
              "\n",
              "    [theme=dark] .colab-df-convert {\n",
              "      background-color: #3B4455;\n",
              "      fill: #D2E3FC;\n",
              "    }\n",
              "\n",
              "    [theme=dark] .colab-df-convert:hover {\n",
              "      background-color: #434B5C;\n",
              "      box-shadow: 0px 1px 3px 1px rgba(0, 0, 0, 0.15);\n",
              "      filter: drop-shadow(0px 1px 2px rgba(0, 0, 0, 0.3));\n",
              "      fill: #FFFFFF;\n",
              "    }\n",
              "  </style>\n",
              "\n",
              "      <script>\n",
              "        const buttonEl =\n",
              "          document.querySelector('#df-5ee3aedb-f145-4385-a499-9033c8146c7c button.colab-df-convert');\n",
              "        buttonEl.style.display =\n",
              "          google.colab.kernel.accessAllowed ? 'block' : 'none';\n",
              "\n",
              "        async function convertToInteractive(key) {\n",
              "          const element = document.querySelector('#df-5ee3aedb-f145-4385-a499-9033c8146c7c');\n",
              "          const dataTable =\n",
              "            await google.colab.kernel.invokeFunction('convertToInteractive',\n",
              "                                                     [key], {});\n",
              "          if (!dataTable) return;\n",
              "\n",
              "          const docLinkHtml = 'Like what you see? Visit the ' +\n",
              "            '<a target=\"_blank\" href=https://colab.research.google.com/notebooks/data_table.ipynb>data table notebook</a>'\n",
              "            + ' to learn more about interactive tables.';\n",
              "          element.innerHTML = '';\n",
              "          dataTable['output_type'] = 'display_data';\n",
              "          await google.colab.output.renderOutput(dataTable, element);\n",
              "          const docLink = document.createElement('div');\n",
              "          docLink.innerHTML = docLinkHtml;\n",
              "          element.appendChild(docLink);\n",
              "        }\n",
              "      </script>\n",
              "    </div>\n",
              "  </div>\n",
              "  "
            ]
          },
          "metadata": {},
          "execution_count": 51
        }
      ]
    },
    {
      "cell_type": "code",
      "source": [
        "df_perm['imp_mean'].tail(10).plot(kind='barh')"
      ],
      "metadata": {
        "id": "pOt63i7vQEoC",
        "outputId": "f8ce1830-9b7a-4f44-e375-07bfa9b40479",
        "colab": {
          "base_uri": "https://localhost:8080/",
          "height": 282
        }
      },
      "execution_count": 52,
      "outputs": [
        {
          "output_type": "execute_result",
          "data": {
            "text/plain": [
              "<matplotlib.axes._subplots.AxesSubplot at 0x7fa4fa5102e0>"
            ]
          },
          "metadata": {},
          "execution_count": 52
        },
        {
          "output_type": "display_data",
          "data": {
            "text/plain": [
              "<Figure size 432x288 with 1 Axes>"
            ],
            "image/png": "[encoded data removed]"
          },
          "metadata": {
            "needs_background": "light"
          }
        }
      ]
    }
  ]
}