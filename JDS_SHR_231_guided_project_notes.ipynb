{
  "nbformat": 4,
  "nbformat_minor": 0,
  "metadata": {
    "colab": {
      "provenance": [],
      "collapsed_sections": [
        "tC6MqtN90A0x",
        "EklA_4VYP31G"
      ],
      "include_colab_link": true
    },
    "kernelspec": {
      "display_name": "Python 3",
      "language": "python",
      "name": "python3"
    },
    "language_info": {
      "codemirror_mode": {
        "name": "ipython",
        "version": 3
      },
      "file_extension": ".py",
      "mimetype": "text/x-python",
      "name": "python",
      "nbconvert_exporter": "python",
      "pygments_lexer": "ipython3",
      "version": "3.8.9"
    }
  },
  "cells": [
    {
      "cell_type": "markdown",
      "metadata": {
        "id": "view-in-github",
        "colab_type": "text"
      },
      "source": [
        "<a href=\"https://colab.research.google.com/github/Vasanta2002/sprint_7/blob/main/JDS_SHR_231_guided_project_notes.ipynb\" target=\"_parent\"><img src=\"https://colab.research.google.com/assets/colab-badge.svg\" alt=\"Open In Colab\"/></a>"
      ]
    },
    {
      "cell_type": "markdown",
      "metadata": {
        "id": "RUhphDysw-6P"
      },
      "source": [
        "## BloomTech Data Science\n",
        "\n",
        "---\n"
      ]
    },
    {
      "cell_type": "markdown",
      "metadata": {
        "id": "c9XvBGFMguJ1"
      },
      "source": [
        "# Define ML Problems\n",
        "- Data Leakage\n",
        "- ROC/AUC Curve\n",
        "\n"
      ]
    },
    {
      "cell_type": "code",
      "metadata": {
        "id": "DK_BlRx4va6m"
      },
      "source": [
        "%%capture\n",
        "import sys\n",
        "\n",
        "# If you're on Colab:\n",
        "if 'google.colab' in sys.modules:\n",
        "    DATA_PATH = 'https://raw.githubusercontent.com/bloominstituteoftechnology/DS-Unit-2-Applied-Modeling/master/data/'\n",
        "    !pip install category_encoders==2.*\n",
        "\n",
        "# If you're working locally:\n",
        "else:\n",
        "    DATA_PATH = '../data/'"
      ],
      "execution_count": 1,
      "outputs": []
    },
    {
      "cell_type": "code",
      "metadata": {
        "id": "kbOK7kIgwAWA"
      },
      "source": [
        "import pandas as pd\n",
        "from sklearn.pipeline import make_pipeline\n",
        "from sklearn.impute import SimpleImputer\n",
        "from sklearn.ensemble import RandomForestClassifier\n",
        "from sklearn.linear_model import LogisticRegression\n",
        "from sklearn.preprocessing import StandardScaler\n",
        "from sklearn.metrics import classification_report, roc_curve, plot_confusion_matrix, plot_roc_curve,roc_auc_score\n",
        "import matplotlib.pyplot as plt"
      ],
      "execution_count": 2,
      "outputs": []
    },
    {
      "cell_type": "code",
      "source": [
        "pd.set_option('display.max_columns', 500)"
      ],
      "metadata": {
        "id": "NxBBseZ3wE0g"
      },
      "execution_count": 3,
      "outputs": []
    },
    {
      "cell_type": "markdown",
      "metadata": {
        "id": "Vq41fT8Nva6t"
      },
      "source": [
        "# Define ML problems\n",
        "\n",
        "# I. Wrangle Data"
      ]
    },
    {
      "cell_type": "code",
      "metadata": {
        "id": "7rPiEC4Dva6y"
      },
      "source": [
        "def wrangle(filepath):\n",
        "\n",
        "  df = pd.read_csv(filepath)\n",
        "\n",
        "  # Import w/ DateTimeIndex\n",
        "  df = pd.read_csv(filepath, parse_dates=['Date'], index_col = 'Date')\n",
        "  \n",
        "  # drop rows with no overall rating\n",
        "  df.dropna(subset=['overall'], inplace = True)\n",
        "\n",
        "  # Create `'great'` column as target\n",
        "  df['great'] = (df['overall'] >= 4).astype(int)  \n",
        "\n",
        "  # Drop overall column to prevent data leakage\n",
        "  df.drop(columns='overall', inplace = True)\n",
        "\n",
        "  # Clean binary encoded columns\n",
        "  categorical_cols = df.select_dtypes('object').columns\n",
        "  # use categorical columns which are basically binary encoded\n",
        "  binary_cols = [col for col in categorical_cols if df[col].nunique() < 4]\n",
        "  for col in binary_cols:\n",
        "    df[col] = df[col].apply(lambda x: 1 if isinstance(x, str) else 0)\n",
        "\n",
        "  # Drop high-cardinality categorical variables\n",
        "  threshold = 20\n",
        "\n",
        "  high_card_cols =  [col for col in categorical_cols\n",
        "                     if df[col].nunique() > threshold ]\n",
        "  df.drop(high_card_cols, axis=1, inplace=True)\n",
        "\n",
        "  # Dropping columns with high number of NaN values\n",
        "  df.dropna(axis=1, thresh=300, inplace = True)\n",
        "\n",
        "  return df"
      ],
      "execution_count": 4,
      "outputs": []
    },
    {
      "cell_type": "code",
      "metadata": {
        "id": "m3NYTxupva6z"
      },
      "source": [
        "df =wrangle(DATA_PATH + 'burritos/burritos.csv')"
      ],
      "execution_count": 5,
      "outputs": []
    },
    {
      "cell_type": "code",
      "source": [
        "df.columns"
      ],
      "metadata": {
        "colab": {
          "base_uri": "https://localhost:8080/"
        },
        "id": "cIVv0LPO0zEA",
        "outputId": "98f98d73-3d0a-4282-c246-33c5eacc8c3a"
      },
      "execution_count": 6,
      "outputs": [
        {
          "output_type": "execute_result",
          "data": {
            "text/plain": [
              "Index(['Cost', 'Hunger', 'Tortilla', 'Temp', 'Meat', 'Fillings',\n",
              "       'Meat:filling', 'Uniformity', 'Salsa', 'Synergy', 'Wrap', 'Unreliable',\n",
              "       'NonSD', 'Beef', 'Pico', 'Guac', 'Cheese', 'Fries', 'Sour cream',\n",
              "       'Pork', 'Chicken', 'Shrimp', 'Fish', 'Rice', 'Beans', 'Lettuce',\n",
              "       'Tomato', 'Bell peper', 'Carrots', 'Cabbage', 'Sauce', 'Salsa.1',\n",
              "       'Cilantro', 'Onion', 'Taquito', 'Pineapple', 'Ham', 'Chile relleno',\n",
              "       'Nopales', 'Lobster', 'Egg', 'Mushroom', 'Bacon', 'Sushi', 'Avocado',\n",
              "       'Corn', 'Zucchini', 'great'],\n",
              "      dtype='object')"
            ]
          },
          "metadata": {},
          "execution_count": 6
        }
      ]
    },
    {
      "cell_type": "code",
      "source": [
        "df.head()"
      ],
      "metadata": {
        "colab": {
          "base_uri": "https://localhost:8080/",
          "height": 406
        },
        "id": "o1sHiEVUt9Ep",
        "outputId": "39b4359e-d3ad-45ce-d087-9bd7bd8efcf1"
      },
      "execution_count": 7,
      "outputs": [
        {
          "output_type": "execute_result",
          "data": {
            "text/plain": [
              "            Cost  Hunger  Tortilla  Temp  Meat  Fillings  Meat:filling  \\\n",
              "Date                                                                     \n",
              "2016-01-18  6.49     3.0       3.0   5.0   3.0       3.5           4.0   \n",
              "2016-01-24  5.45     3.5       2.0   3.5   2.5       2.5           2.0   \n",
              "2016-01-24  4.85     1.5       3.0   2.0   2.5       3.0           4.5   \n",
              "2016-01-24  5.25     2.0       3.0   2.0   3.5       3.0           4.0   \n",
              "2016-01-27  6.59     4.0       4.0   5.0   4.0       3.5           4.5   \n",
              "\n",
              "            Uniformity  Salsa  Synergy  Wrap  Unreliable  NonSD  Beef  Pico  \\\n",
              "Date                                                                          \n",
              "2016-01-18         4.0    4.0      4.0   4.0           0      0     1     1   \n",
              "2016-01-24         4.0    3.5      2.5   5.0           0      0     1     1   \n",
              "2016-01-24         4.0    3.0      3.0   5.0           0      0     0     1   \n",
              "2016-01-24         5.0    4.0      4.0   5.0           0      0     1     1   \n",
              "2016-01-27         5.0    2.5      4.5   4.0           0      0     1     1   \n",
              "\n",
              "            Guac  Cheese  Fries  Sour cream  Pork  Chicken  Shrimp  Fish  \\\n",
              "Date                                                                       \n",
              "2016-01-18     1       1      1           0     0        0       0     0   \n",
              "2016-01-24     1       1      1           0     0        0       0     0   \n",
              "2016-01-24     1       0      0           0     1        0       0     0   \n",
              "2016-01-24     1       0      0           0     0        0       0     0   \n",
              "2016-01-27     0       1      1           0     0        0       0     0   \n",
              "\n",
              "            Rice  Beans  Lettuce  Tomato  Bell peper  Carrots  Cabbage  Sauce  \\\n",
              "Date                                                                            \n",
              "2016-01-18     0      0        0       0           0        0        0      0   \n",
              "2016-01-24     0      0        0       0           0        0        0      0   \n",
              "2016-01-24     0      0        0       0           0        0        0      0   \n",
              "2016-01-24     0      0        0       0           0        0        0      0   \n",
              "2016-01-27     0      0        0       0           0        0        0      0   \n",
              "\n",
              "            Salsa.1  Cilantro  Onion  Taquito  Pineapple  Ham  Chile relleno  \\\n",
              "Date                                                                           \n",
              "2016-01-18        0         0      0        0          0    0              0   \n",
              "2016-01-24        0         0      0        0          0    0              0   \n",
              "2016-01-24        0         0      0        0          0    0              0   \n",
              "2016-01-24        0         0      0        0          0    0              0   \n",
              "2016-01-27        0         0      0        0          0    0              0   \n",
              "\n",
              "            Nopales  Lobster  Egg  Mushroom  Bacon  Sushi  Avocado  Corn  \\\n",
              "Date                                                                       \n",
              "2016-01-18        0        0    0         0      0      0        0     0   \n",
              "2016-01-24        0        0    0         0      0      0        0     0   \n",
              "2016-01-24        0        0    0         0      0      0        0     0   \n",
              "2016-01-24        0        0    0         0      0      0        0     0   \n",
              "2016-01-27        0        0    0         0      0      0        0     0   \n",
              "\n",
              "            Zucchini  great  \n",
              "Date                         \n",
              "2016-01-18         0      0  \n",
              "2016-01-24         0      0  \n",
              "2016-01-24         0      0  \n",
              "2016-01-24         0      0  \n",
              "2016-01-27         0      1  "
            ],
            "text/html": [
              "\n",
              "  <div id=\"df-5cd32e54-f4cd-4d73-b562-242ee57167d6\">\n",
              "    <div class=\"colab-df-container\">\n",
              "      <div>\n",
              "<style scoped>\n",
              "    .dataframe tbody tr th:only-of-type {\n",
              "        vertical-align: middle;\n",
              "    }\n",
              "\n",
              "    .dataframe tbody tr th {\n",
              "        vertical-align: top;\n",
              "    }\n",
              "\n",
              "    .dataframe thead th {\n",
              "        text-align: right;\n",
              "    }\n",
              "</style>\n",
              "<table border=\"1\" class=\"dataframe\">\n",
              "  <thead>\n",
              "    <tr style=\"text-align: right;\">\n",
              "      <th></th>\n",
              "      <th>Cost</th>\n",
              "      <th>Hunger</th>\n",
              "      <th>Tortilla</th>\n",
              "      <th>Temp</th>\n",
              "      <th>Meat</th>\n",
              "      <th>Fillings</th>\n",
              "      <th>Meat:filling</th>\n",
              "      <th>Uniformity</th>\n",
              "      <th>Salsa</th>\n",
              "      <th>Synergy</th>\n",
              "      <th>Wrap</th>\n",
              "      <th>Unreliable</th>\n",
              "      <th>NonSD</th>\n",
              "      <th>Beef</th>\n",
              "      <th>Pico</th>\n",
              "      <th>Guac</th>\n",
              "      <th>Cheese</th>\n",
              "      <th>Fries</th>\n",
              "      <th>Sour cream</th>\n",
              "      <th>Pork</th>\n",
              "      <th>Chicken</th>\n",
              "      <th>Shrimp</th>\n",
              "      <th>Fish</th>\n",
              "      <th>Rice</th>\n",
              "      <th>Beans</th>\n",
              "      <th>Lettuce</th>\n",
              "      <th>Tomato</th>\n",
              "      <th>Bell peper</th>\n",
              "      <th>Carrots</th>\n",
              "      <th>Cabbage</th>\n",
              "      <th>Sauce</th>\n",
              "      <th>Salsa.1</th>\n",
              "      <th>Cilantro</th>\n",
              "      <th>Onion</th>\n",
              "      <th>Taquito</th>\n",
              "      <th>Pineapple</th>\n",
              "      <th>Ham</th>\n",
              "      <th>Chile relleno</th>\n",
              "      <th>Nopales</th>\n",
              "      <th>Lobster</th>\n",
              "      <th>Egg</th>\n",
              "      <th>Mushroom</th>\n",
              "      <th>Bacon</th>\n",
              "      <th>Sushi</th>\n",
              "      <th>Avocado</th>\n",
              "      <th>Corn</th>\n",
              "      <th>Zucchini</th>\n",
              "      <th>great</th>\n",
              "    </tr>\n",
              "    <tr>\n",
              "      <th>Date</th>\n",
              "      <th></th>\n",
              "      <th></th>\n",
              "      <th></th>\n",
              "      <th></th>\n",
              "      <th></th>\n",
              "      <th></th>\n",
              "      <th></th>\n",
              "      <th></th>\n",
              "      <th></th>\n",
              "      <th></th>\n",
              "      <th></th>\n",
              "      <th></th>\n",
              "      <th></th>\n",
              "      <th></th>\n",
              "      <th></th>\n",
              "      <th></th>\n",
              "      <th></th>\n",
              "      <th></th>\n",
              "      <th></th>\n",
              "      <th></th>\n",
              "      <th></th>\n",
              "      <th></th>\n",
              "      <th></th>\n",
              "      <th></th>\n",
              "      <th></th>\n",
              "      <th></th>\n",
              "      <th></th>\n",
              "      <th></th>\n",
              "      <th></th>\n",
              "      <th></th>\n",
              "      <th></th>\n",
              "      <th></th>\n",
              "      <th></th>\n",
              "      <th></th>\n",
              "      <th></th>\n",
              "      <th></th>\n",
              "      <th></th>\n",
              "      <th></th>\n",
              "      <th></th>\n",
              "      <th></th>\n",
              "      <th></th>\n",
              "      <th></th>\n",
              "      <th></th>\n",
              "      <th></th>\n",
              "      <th></th>\n",
              "      <th></th>\n",
              "      <th></th>\n",
              "      <th></th>\n",
              "    </tr>\n",
              "  </thead>\n",
              "  <tbody>\n",
              "    <tr>\n",
              "      <th>2016-01-18</th>\n",
              "      <td>6.49</td>\n",
              "      <td>3.0</td>\n",
              "      <td>3.0</td>\n",
              "      <td>5.0</td>\n",
              "      <td>3.0</td>\n",
              "      <td>3.5</td>\n",
              "      <td>4.0</td>\n",
              "      <td>4.0</td>\n",
              "      <td>4.0</td>\n",
              "      <td>4.0</td>\n",
              "      <td>4.0</td>\n",
              "      <td>0</td>\n",
              "      <td>0</td>\n",
              "      <td>1</td>\n",
              "      <td>1</td>\n",
              "      <td>1</td>\n",
              "      <td>1</td>\n",
              "      <td>1</td>\n",
              "      <td>0</td>\n",
              "      <td>0</td>\n",
              "      <td>0</td>\n",
              "      <td>0</td>\n",
              "      <td>0</td>\n",
              "      <td>0</td>\n",
              "      <td>0</td>\n",
              "      <td>0</td>\n",
              "      <td>0</td>\n",
              "      <td>0</td>\n",
              "      <td>0</td>\n",
              "      <td>0</td>\n",
              "      <td>0</td>\n",
              "      <td>0</td>\n",
              "      <td>0</td>\n",
              "      <td>0</td>\n",
              "      <td>0</td>\n",
              "      <td>0</td>\n",
              "      <td>0</td>\n",
              "      <td>0</td>\n",
              "      <td>0</td>\n",
              "      <td>0</td>\n",
              "      <td>0</td>\n",
              "      <td>0</td>\n",
              "      <td>0</td>\n",
              "      <td>0</td>\n",
              "      <td>0</td>\n",
              "      <td>0</td>\n",
              "      <td>0</td>\n",
              "      <td>0</td>\n",
              "    </tr>\n",
              "    <tr>\n",
              "      <th>2016-01-24</th>\n",
              "      <td>5.45</td>\n",
              "      <td>3.5</td>\n",
              "      <td>2.0</td>\n",
              "      <td>3.5</td>\n",
              "      <td>2.5</td>\n",
              "      <td>2.5</td>\n",
              "      <td>2.0</td>\n",
              "      <td>4.0</td>\n",
              "      <td>3.5</td>\n",
              "      <td>2.5</td>\n",
              "      <td>5.0</td>\n",
              "      <td>0</td>\n",
              "      <td>0</td>\n",
              "      <td>1</td>\n",
              "      <td>1</td>\n",
              "      <td>1</td>\n",
              "      <td>1</td>\n",
              "      <td>1</td>\n",
              "      <td>0</td>\n",
              "      <td>0</td>\n",
              "      <td>0</td>\n",
              "      <td>0</td>\n",
              "      <td>0</td>\n",
              "      <td>0</td>\n",
              "      <td>0</td>\n",
              "      <td>0</td>\n",
              "      <td>0</td>\n",
              "      <td>0</td>\n",
              "      <td>0</td>\n",
              "      <td>0</td>\n",
              "      <td>0</td>\n",
              "      <td>0</td>\n",
              "      <td>0</td>\n",
              "      <td>0</td>\n",
              "      <td>0</td>\n",
              "      <td>0</td>\n",
              "      <td>0</td>\n",
              "      <td>0</td>\n",
              "      <td>0</td>\n",
              "      <td>0</td>\n",
              "      <td>0</td>\n",
              "      <td>0</td>\n",
              "      <td>0</td>\n",
              "      <td>0</td>\n",
              "      <td>0</td>\n",
              "      <td>0</td>\n",
              "      <td>0</td>\n",
              "      <td>0</td>\n",
              "    </tr>\n",
              "    <tr>\n",
              "      <th>2016-01-24</th>\n",
              "      <td>4.85</td>\n",
              "      <td>1.5</td>\n",
              "      <td>3.0</td>\n",
              "      <td>2.0</td>\n",
              "      <td>2.5</td>\n",
              "      <td>3.0</td>\n",
              "      <td>4.5</td>\n",
              "      <td>4.0</td>\n",
              "      <td>3.0</td>\n",
              "      <td>3.0</td>\n",
              "      <td>5.0</td>\n",
              "      <td>0</td>\n",
              "      <td>0</td>\n",
              "      <td>0</td>\n",
              "      <td>1</td>\n",
              "      <td>1</td>\n",
              "      <td>0</td>\n",
              "      <td>0</td>\n",
              "      <td>0</td>\n",
              "      <td>1</td>\n",
              "      <td>0</td>\n",
              "      <td>0</td>\n",
              "      <td>0</td>\n",
              "      <td>0</td>\n",
              "      <td>0</td>\n",
              "      <td>0</td>\n",
              "      <td>0</td>\n",
              "      <td>0</td>\n",
              "      <td>0</td>\n",
              "      <td>0</td>\n",
              "      <td>0</td>\n",
              "      <td>0</td>\n",
              "      <td>0</td>\n",
              "      <td>0</td>\n",
              "      <td>0</td>\n",
              "      <td>0</td>\n",
              "      <td>0</td>\n",
              "      <td>0</td>\n",
              "      <td>0</td>\n",
              "      <td>0</td>\n",
              "      <td>0</td>\n",
              "      <td>0</td>\n",
              "      <td>0</td>\n",
              "      <td>0</td>\n",
              "      <td>0</td>\n",
              "      <td>0</td>\n",
              "      <td>0</td>\n",
              "      <td>0</td>\n",
              "    </tr>\n",
              "    <tr>\n",
              "      <th>2016-01-24</th>\n",
              "      <td>5.25</td>\n",
              "      <td>2.0</td>\n",
              "      <td>3.0</td>\n",
              "      <td>2.0</td>\n",
              "      <td>3.5</td>\n",
              "      <td>3.0</td>\n",
              "      <td>4.0</td>\n",
              "      <td>5.0</td>\n",
              "      <td>4.0</td>\n",
              "      <td>4.0</td>\n",
              "      <td>5.0</td>\n",
              "      <td>0</td>\n",
              "      <td>0</td>\n",
              "      <td>1</td>\n",
              "      <td>1</td>\n",
              "      <td>1</td>\n",
              "      <td>0</td>\n",
              "      <td>0</td>\n",
              "      <td>0</td>\n",
              "      <td>0</td>\n",
              "      <td>0</td>\n",
              "      <td>0</td>\n",
              "      <td>0</td>\n",
              "      <td>0</td>\n",
              "      <td>0</td>\n",
              "      <td>0</td>\n",
              "      <td>0</td>\n",
              "      <td>0</td>\n",
              "      <td>0</td>\n",
              "      <td>0</td>\n",
              "      <td>0</td>\n",
              "      <td>0</td>\n",
              "      <td>0</td>\n",
              "      <td>0</td>\n",
              "      <td>0</td>\n",
              "      <td>0</td>\n",
              "      <td>0</td>\n",
              "      <td>0</td>\n",
              "      <td>0</td>\n",
              "      <td>0</td>\n",
              "      <td>0</td>\n",
              "      <td>0</td>\n",
              "      <td>0</td>\n",
              "      <td>0</td>\n",
              "      <td>0</td>\n",
              "      <td>0</td>\n",
              "      <td>0</td>\n",
              "      <td>0</td>\n",
              "    </tr>\n",
              "    <tr>\n",
              "      <th>2016-01-27</th>\n",
              "      <td>6.59</td>\n",
              "      <td>4.0</td>\n",
              "      <td>4.0</td>\n",
              "      <td>5.0</td>\n",
              "      <td>4.0</td>\n",
              "      <td>3.5</td>\n",
              "      <td>4.5</td>\n",
              "      <td>5.0</td>\n",
              "      <td>2.5</td>\n",
              "      <td>4.5</td>\n",
              "      <td>4.0</td>\n",
              "      <td>0</td>\n",
              "      <td>0</td>\n",
              "      <td>1</td>\n",
              "      <td>1</td>\n",
              "      <td>0</td>\n",
              "      <td>1</td>\n",
              "      <td>1</td>\n",
              "      <td>0</td>\n",
              "      <td>0</td>\n",
              "      <td>0</td>\n",
              "      <td>0</td>\n",
              "      <td>0</td>\n",
              "      <td>0</td>\n",
              "      <td>0</td>\n",
              "      <td>0</td>\n",
              "      <td>0</td>\n",
              "      <td>0</td>\n",
              "      <td>0</td>\n",
              "      <td>0</td>\n",
              "      <td>0</td>\n",
              "      <td>0</td>\n",
              "      <td>0</td>\n",
              "      <td>0</td>\n",
              "      <td>0</td>\n",
              "      <td>0</td>\n",
              "      <td>0</td>\n",
              "      <td>0</td>\n",
              "      <td>0</td>\n",
              "      <td>0</td>\n",
              "      <td>0</td>\n",
              "      <td>0</td>\n",
              "      <td>0</td>\n",
              "      <td>0</td>\n",
              "      <td>0</td>\n",
              "      <td>0</td>\n",
              "      <td>0</td>\n",
              "      <td>1</td>\n",
              "    </tr>\n",
              "  </tbody>\n",
              "</table>\n",
              "</div>\n",
              "      <button class=\"colab-df-convert\" onclick=\"convertToInteractive('df-5cd32e54-f4cd-4d73-b562-242ee57167d6')\"\n",
              "              title=\"Convert this dataframe to an interactive table.\"\n",
              "              style=\"display:none;\">\n",
              "        \n",
              "  <svg xmlns=\"http://www.w3.org/2000/svg\" height=\"24px\"viewBox=\"0 0 24 24\"\n",
              "       width=\"24px\">\n",
              "    <path d=\"M0 0h24v24H0V0z\" fill=\"none\"/>\n",
              "    <path d=\"M18.56 5.44l.94 2.06.94-2.06 2.06-.94-2.06-.94-.94-2.06-.94 2.06-2.06.94zm-11 1L8.5 8.5l.94-2.06 2.06-.94-2.06-.94L8.5 2.5l-.94 2.06-2.06.94zm10 10l.94 2.06.94-2.06 2.06-.94-2.06-.94-.94-2.06-.94 2.06-2.06.94z\"/><path d=\"M17.41 7.96l-1.37-1.37c-.4-.4-.92-.59-1.43-.59-.52 0-1.04.2-1.43.59L10.3 9.45l-7.72 7.72c-.78.78-.78 2.05 0 2.83L4 21.41c.39.39.9.59 1.41.59.51 0 1.02-.2 1.41-.59l7.78-7.78 2.81-2.81c.8-.78.8-2.07 0-2.86zM5.41 20L4 18.59l7.72-7.72 1.47 1.35L5.41 20z\"/>\n",
              "  </svg>\n",
              "      </button>\n",
              "      \n",
              "  <style>\n",
              "    .colab-df-container {\n",
              "      display:flex;\n",
              "      flex-wrap:wrap;\n",
              "      gap: 12px;\n",
              "    }\n",
              "\n",
              "    .colab-df-convert {\n",
              "      background-color: #E8F0FE;\n",
              "      border: none;\n",
              "      border-radius: 50%;\n",
              "      cursor: pointer;\n",
              "      display: none;\n",
              "      fill: #1967D2;\n",
              "      height: 32px;\n",
              "      padding: 0 0 0 0;\n",
              "      width: 32px;\n",
              "    }\n",
              "\n",
              "    .colab-df-convert:hover {\n",
              "      background-color: #E2EBFA;\n",
              "      box-shadow: 0px 1px 2px rgba(60, 64, 67, 0.3), 0px 1px 3px 1px rgba(60, 64, 67, 0.15);\n",
              "      fill: #174EA6;\n",
              "    }\n",
              "\n",
              "    [theme=dark] .colab-df-convert {\n",
              "      background-color: #3B4455;\n",
              "      fill: #D2E3FC;\n",
              "    }\n",
              "\n",
              "    [theme=dark] .colab-df-convert:hover {\n",
              "      background-color: #434B5C;\n",
              "      box-shadow: 0px 1px 3px 1px rgba(0, 0, 0, 0.15);\n",
              "      filter: drop-shadow(0px 1px 2px rgba(0, 0, 0, 0.3));\n",
              "      fill: #FFFFFF;\n",
              "    }\n",
              "  </style>\n",
              "\n",
              "      <script>\n",
              "        const buttonEl =\n",
              "          document.querySelector('#df-5cd32e54-f4cd-4d73-b562-242ee57167d6 button.colab-df-convert');\n",
              "        buttonEl.style.display =\n",
              "          google.colab.kernel.accessAllowed ? 'block' : 'none';\n",
              "\n",
              "        async function convertToInteractive(key) {\n",
              "          const element = document.querySelector('#df-5cd32e54-f4cd-4d73-b562-242ee57167d6');\n",
              "          const dataTable =\n",
              "            await google.colab.kernel.invokeFunction('convertToInteractive',\n",
              "                                                     [key], {});\n",
              "          if (!dataTable) return;\n",
              "\n",
              "          const docLinkHtml = 'Like what you see? Visit the ' +\n",
              "            '<a target=\"_blank\" href=https://colab.research.google.com/notebooks/data_table.ipynb>data table notebook</a>'\n",
              "            + ' to learn more about interactive tables.';\n",
              "          element.innerHTML = '';\n",
              "          dataTable['output_type'] = 'display_data';\n",
              "          await google.colab.output.renderOutput(dataTable, element);\n",
              "          const docLink = document.createElement('div');\n",
              "          docLink.innerHTML = docLinkHtml;\n",
              "          element.appendChild(docLink);\n",
              "        }\n",
              "      </script>\n",
              "    </div>\n",
              "  </div>\n",
              "  "
            ]
          },
          "metadata": {},
          "execution_count": 7
        }
      ]
    },
    {
      "cell_type": "markdown",
      "metadata": {
        "id": "f8rbc3w4va6z"
      },
      "source": [
        "# II. Split Data"
      ]
    },
    {
      "cell_type": "code",
      "metadata": {
        "id": "Jl1Lpcz1va6z"
      },
      "source": [
        "target = 'great'\n",
        "y = df[target]\n",
        "X = df.drop(target, axis=1)"
      ],
      "execution_count": 8,
      "outputs": []
    },
    {
      "cell_type": "code",
      "source": [
        "y.value_counts(normalize=True).plot(kind='bar')"
      ],
      "metadata": {
        "id": "uo9ClwwFeD45",
        "colab": {
          "base_uri": "https://localhost:8080/",
          "height": 279
        },
        "outputId": "ca50a3b2-0a7a-43e2-d7ca-eaf88db18f40"
      },
      "execution_count": 9,
      "outputs": [
        {
          "output_type": "execute_result",
          "data": {
            "text/plain": [
              "<matplotlib.axes._subplots.AxesSubplot at 0x7fbdd64bee20>"
            ]
          },
          "metadata": {},
          "execution_count": 9
        },
        {
          "output_type": "display_data",
          "data": {
            "text/plain": [
              "<Figure size 432x288 with 1 Axes>"
            ],
            "image/png": "[encoded data removed]"
          },
          "metadata": {
            "needs_background": "light"
          }
        }
      ]
    },
    {
      "cell_type": "code",
      "source": [
        "X['Cost'].hist()"
      ],
      "metadata": {
        "id": "jzOG1xEKeD0Y",
        "colab": {
          "base_uri": "https://localhost:8080/",
          "height": 282
        },
        "outputId": "4fd00e3b-691f-4d3b-c73b-d90d1d96e7c9"
      },
      "execution_count": 10,
      "outputs": [
        {
          "output_type": "execute_result",
          "data": {
            "text/plain": [
              "<matplotlib.axes._subplots.AxesSubplot at 0x7fbdd6407fa0>"
            ]
          },
          "metadata": {},
          "execution_count": 10
        },
        {
          "output_type": "display_data",
          "data": {
            "text/plain": [
              "<Figure size 432x288 with 1 Axes>"
            ],
            "image/png": "[encoded data removed]"
          },
          "metadata": {
            "needs_background": "light"
          }
        }
      ]
    },
    {
      "cell_type": "code",
      "source": [
        "y.resample('y').sum()"
      ],
      "metadata": {
        "id": "s4WvxEQQeLAS",
        "colab": {
          "base_uri": "https://localhost:8080/"
        },
        "outputId": "93cfcfff-8080-4163-f01f-b7336a029108"
      },
      "execution_count": 11,
      "outputs": [
        {
          "output_type": "execute_result",
          "data": {
            "text/plain": [
              "Date\n",
              "2011-12-31      0\n",
              "2012-12-31      0\n",
              "2013-12-31      0\n",
              "2014-12-31      0\n",
              "2015-12-31      1\n",
              "2016-12-31    121\n",
              "2017-12-31     38\n",
              "2018-12-31     13\n",
              "2019-12-31      8\n",
              "2020-12-31      0\n",
              "2021-12-31      0\n",
              "2022-12-31      0\n",
              "2023-12-31      0\n",
              "2024-12-31      0\n",
              "2025-12-31      0\n",
              "2026-12-31      1\n",
              "Freq: A-DEC, Name: great, dtype: int64"
            ]
          },
          "metadata": {},
          "execution_count": 11
        }
      ]
    },
    {
      "cell_type": "code",
      "source": [
        "# Training \n",
        "train_mask = X.index.year < 2017\n",
        "X_train, y_train = X.loc[train_mask], y.loc[train_mask]\n",
        "\n",
        "# Validation \n",
        "validation_mask = X.index.year == 2017\n",
        "X_val, y_val = X.loc[validation_mask], y.loc[validation_mask]\n",
        "\n",
        "# Testing \n",
        "test_mask = X.index.year > 2017\n",
        "X_test, y_test = X.loc[test_mask], y.loc[test_mask]"
      ],
      "metadata": {
        "id": "7bhMI4L0eK9K"
      },
      "execution_count": 12,
      "outputs": []
    },
    {
      "cell_type": "markdown",
      "metadata": {
        "id": "prtl34EAva60"
      },
      "source": [
        "# III. Establish Baseline"
      ]
    },
    {
      "cell_type": "code",
      "metadata": {
        "id": "0eiKgO3ova61",
        "colab": {
          "base_uri": "https://localhost:8080/"
        },
        "outputId": "81ba1a65-78e4-4b0f-83cd-4f1e0a15f166"
      },
      "source": [
        "print('Baseline accuracy:', y_train.value_counts(normalize=True).max())"
      ],
      "execution_count": 13,
      "outputs": [
        {
          "output_type": "stream",
          "name": "stdout",
          "text": [
            "Baseline accuracy: 0.5906040268456376\n"
          ]
        }
      ]
    },
    {
      "cell_type": "markdown",
      "metadata": {
        "id": "OqGoXIPEva61"
      },
      "source": [
        "# IV. Build Model"
      ]
    },
    {
      "cell_type": "code",
      "source": [
        "# Model 1: Logistic Regression\n",
        "\n",
        "model_lr = make_pipeline(\n",
        "    SimpleImputer(),\n",
        "    StandardScaler(),\n",
        "    LogisticRegression()\n",
        ")\n",
        "\n",
        "model_lr.fit(X_train, y_train);"
      ],
      "metadata": {
        "id": "ADAlN37Kd3Wx"
      },
      "execution_count": 14,
      "outputs": []
    },
    {
      "cell_type": "code",
      "source": [
        "# Model 2: Random Forest\n",
        "model_rf = make_pipeline(\n",
        "    SimpleImputer(),\n",
        "    RandomForestClassifier(n_jobs=-1)\n",
        ")\n",
        "\n",
        "model_rf.fit(X_train, y_train);"
      ],
      "metadata": {
        "id": "EDfn0lH_d3K1"
      },
      "execution_count": 15,
      "outputs": []
    },
    {
      "cell_type": "markdown",
      "metadata": {
        "id": "pPfWN9ezva62"
      },
      "source": [
        "# V. Check Metrics\n",
        "\n",
        "**Accuracy**"
      ]
    },
    {
      "cell_type": "markdown",
      "source": [
        "accuracy = (tp + tn) / (tp + fp + tn + fn)"
      ],
      "metadata": {
        "id": "oOlu9-sUx-uE"
      }
    },
    {
      "cell_type": "code",
      "metadata": {
        "id": "lQg8Ey0sva63",
        "colab": {
          "base_uri": "https://localhost:8080/"
        },
        "outputId": "209a5687-38f1-4f42-ae4f-218d5af769c6"
      },
      "source": [
        "print('Training Accuracy (LOGR):', model_lr.score(X_train, y_train))\n",
        "print('Validation Accuracy (LOGR):', model_lr.score(X_val, y_val))"
      ],
      "execution_count": 16,
      "outputs": [
        {
          "output_type": "stream",
          "name": "stdout",
          "text": [
            "Training Accuracy (LOGR): 0.912751677852349\n",
            "Validation Accuracy (LOGR): 0.788235294117647\n"
          ]
        }
      ]
    },
    {
      "cell_type": "code",
      "metadata": {
        "id": "bJeP3RHAva62",
        "colab": {
          "base_uri": "https://localhost:8080/"
        },
        "outputId": "a4306ae2-a837-4d57-e038-ebefedbd109b"
      },
      "source": [
        "print('Training Accuracy (RF):', model_rf.score(X_train, y_train))\n",
        "print('Validation Accuracy (RF):', model_rf.score(X_val, y_val))"
      ],
      "execution_count": 17,
      "outputs": [
        {
          "output_type": "stream",
          "name": "stdout",
          "text": [
            "Training Accuracy (RF): 1.0\n",
            "Validation Accuracy (RF): 0.8823529411764706\n"
          ]
        }
      ]
    },
    {
      "cell_type": "markdown",
      "metadata": {
        "id": "C6CeKOr1va63"
      },
      "source": [
        "**Precision, Recall, F1**"
      ]
    },
    {
      "cell_type": "markdown",
      "source": [
        "precision = tp / (tp + fp)\n",
        "\n",
        "\n",
        "recall = tp / (tp + fn)"
      ],
      "metadata": {
        "id": "pebzRbKmDAg4"
      }
    },
    {
      "cell_type": "code",
      "source": [
        "print('Logistic Regression')\n",
        "print(classification_report(y_val, model_lr.predict(X_val)));\n",
        "plot_confusion_matrix(model_lr, X_val,y_val);"
      ],
      "metadata": {
        "id": "TOkMtLBidZ3o",
        "outputId": "e399aa14-abb9-4c9b-b786-aa90ce60608d",
        "colab": {
          "base_uri": "https://localhost:8080/",
          "height": 507
        }
      },
      "execution_count": 18,
      "outputs": [
        {
          "output_type": "stream",
          "name": "stdout",
          "text": [
            "Logistic Regression\n",
            "              precision    recall  f1-score   support\n",
            "\n",
            "           0       0.89      0.70      0.79        47\n",
            "           1       0.71      0.89      0.79        38\n",
            "\n",
            "    accuracy                           0.79        85\n",
            "   macro avg       0.80      0.80      0.79        85\n",
            "weighted avg       0.81      0.79      0.79        85\n",
            "\n"
          ]
        },
        {
          "output_type": "stream",
          "name": "stderr",
          "text": [
            "/usr/local/lib/python3.8/dist-packages/sklearn/utils/deprecation.py:87: FutureWarning: Function plot_confusion_matrix is deprecated; Function `plot_confusion_matrix` is deprecated in 1.0 and will be removed in 1.2. Use one of the class methods: ConfusionMatrixDisplay.from_predictions or ConfusionMatrixDisplay.from_estimator.\n",
            "  warnings.warn(msg, category=FutureWarning)\n"
          ]
        },
        {
          "output_type": "display_data",
          "data": {
            "text/plain": [
              "<Figure size 432x288 with 2 Axes>"
            ],
            "image/png": "[encoded data removed]"
          },
          "metadata": {
            "needs_background": "light"
          }
        }
      ]
    },
    {
      "cell_type": "code",
      "source": [
        "print('Random Forest')\n",
        "print(classification_report(y_val, model_rf.predict(X_val)));\n",
        "plot_confusion_matrix(model_rf, X_val,y_val);"
      ],
      "metadata": {
        "id": "uvfPDjTWdZyO",
        "outputId": "e8bf43b3-c934-4db5-d89d-30b96e78f04e",
        "colab": {
          "base_uri": "https://localhost:8080/",
          "height": 507
        }
      },
      "execution_count": 19,
      "outputs": [
        {
          "output_type": "stream",
          "name": "stdout",
          "text": [
            "Random Forest\n",
            "              precision    recall  f1-score   support\n",
            "\n",
            "           0       0.91      0.87      0.89        47\n",
            "           1       0.85      0.89      0.87        38\n",
            "\n",
            "    accuracy                           0.88        85\n",
            "   macro avg       0.88      0.88      0.88        85\n",
            "weighted avg       0.88      0.88      0.88        85\n",
            "\n"
          ]
        },
        {
          "output_type": "stream",
          "name": "stderr",
          "text": [
            "/usr/local/lib/python3.8/dist-packages/sklearn/utils/deprecation.py:87: FutureWarning: Function plot_confusion_matrix is deprecated; Function `plot_confusion_matrix` is deprecated in 1.0 and will be removed in 1.2. Use one of the class methods: ConfusionMatrixDisplay.from_predictions or ConfusionMatrixDisplay.from_estimator.\n",
            "  warnings.warn(msg, category=FutureWarning)\n"
          ]
        },
        {
          "output_type": "display_data",
          "data": {
            "text/plain": [
              "<Figure size 432x288 with 2 Axes>"
            ],
            "image/png": "[encoded data removed]"
          },
          "metadata": {
            "needs_background": "light"
          }
        }
      ]
    },
    {
      "cell_type": "code",
      "source": [],
      "metadata": {
        "id": "6f7u0xK9dZmR"
      },
      "execution_count": 19,
      "outputs": []
    },
    {
      "cell_type": "code",
      "source": [],
      "metadata": {
        "id": "E7lRwkUEdZiG"
      },
      "execution_count": 19,
      "outputs": []
    },
    {
      "cell_type": "markdown",
      "metadata": {
        "id": "yEjKr5Clva64"
      },
      "source": [
        "**ROC curve**\n"
      ]
    },
    {
      "cell_type": "code",
      "metadata": {
        "id": "6ElkFY5SkvJr",
        "outputId": "5709f2ec-c165-4abc-e4a2-c1763fb609e8",
        "colab": {
          "base_uri": "https://localhost:8080/",
          "height": 368
        }
      },
      "source": [
        "lr = plot_roc_curve(\n",
        "    model_lr,\n",
        "    X_val,\n",
        "    y_val,\n",
        "    name = 'logistic regression'\n",
        ")\n",
        "\n",
        "rf = plot_roc_curve(\n",
        "    model_rf,\n",
        "    X_val,\n",
        "    y_val,\n",
        "    ax = lr.ax_,\n",
        "    name = 'random forest'\n",
        ")"
      ],
      "execution_count": 20,
      "outputs": [
        {
          "output_type": "stream",
          "name": "stderr",
          "text": [
            "/usr/local/lib/python3.8/dist-packages/sklearn/utils/deprecation.py:87: FutureWarning: Function plot_roc_curve is deprecated; Function :func:`plot_roc_curve` is deprecated in 1.0 and will be removed in 1.2. Use one of the class methods: :meth:`sklearn.metric.RocCurveDisplay.from_predictions` or :meth:`sklearn.metric.RocCurveDisplay.from_estimator`.\n",
            "  warnings.warn(msg, category=FutureWarning)\n",
            "/usr/local/lib/python3.8/dist-packages/sklearn/utils/deprecation.py:87: FutureWarning: Function plot_roc_curve is deprecated; Function :func:`plot_roc_curve` is deprecated in 1.0 and will be removed in 1.2. Use one of the class methods: :meth:`sklearn.metric.RocCurveDisplay.from_predictions` or :meth:`sklearn.metric.RocCurveDisplay.from_estimator`.\n",
            "  warnings.warn(msg, category=FutureWarning)\n"
          ]
        },
        {
          "output_type": "display_data",
          "data": {
            "text/plain": [
              "<Figure size 432x288 with 1 Axes>"
            ],
            "image/png": "[encoded data removed]"
          },
          "metadata": {
            "needs_background": "light"
          }
        }
      ]
    },
    {
      "cell_type": "code",
      "source": [
        "roc_auc_score(y_val, model_rf.predict_proba(X_val)[:,-1])"
      ],
      "metadata": {
        "id": "I5BbPp7F56wW",
        "outputId": "ac9270f1-e4d0-441e-f8b3-2da9055200c7",
        "colab": {
          "base_uri": "https://localhost:8080/"
        }
      },
      "execution_count": 21,
      "outputs": [
        {
          "output_type": "execute_result",
          "data": {
            "text/plain": [
              "0.944568868980963"
            ]
          },
          "metadata": {},
          "execution_count": 21
        }
      ]
    },
    {
      "cell_type": "code",
      "source": [
        "roc_auc_score(y_val, model_lr.predict_proba(X_val)[:,-1])"
      ],
      "metadata": {
        "id": "1w21VBD6hLli",
        "outputId": "c076c0f2-3b76-409b-f26f-42bf116b1282",
        "colab": {
          "base_uri": "https://localhost:8080/"
        }
      },
      "execution_count": 23,
      "outputs": [
        {
          "output_type": "execute_result",
          "data": {
            "text/plain": [
              "0.9384098544232923"
            ]
          },
          "metadata": {},
          "execution_count": 23
        }
      ]
    },
    {
      "cell_type": "code",
      "source": [
        "# Get predicted probabilities from model\n",
        "y_pred_prob = model_rf.predict_proba(X_val)[:, -1]\n",
        "\n",
        "# Input true labels and probability predictions\n",
        "fpr, tpr, thresholds = roc_curve(y_val, y_pred_prob)\n",
        "\n",
        "# Put data into dictionary\n",
        "data = {'false_pos_rate': fpr,\n",
        "        'true_pos_rate': tpr,\n",
        "        'thresholds':thresholds}\n",
        "\n",
        "pd.DataFrame(data)"
      ],
      "metadata": {
        "id": "qA5mJEsMdQRW",
        "outputId": "b5c39777-09ef-4965-9ad1-9b499b99a77e",
        "colab": {
          "base_uri": "https://localhost:8080/",
          "height": 1000
        }
      },
      "execution_count": 24,
      "outputs": [
        {
          "output_type": "execute_result",
          "data": {
            "text/plain": [
              "    false_pos_rate  true_pos_rate  thresholds\n",
              "0         0.000000       0.000000        2.00\n",
              "1         0.000000       0.026316        1.00\n",
              "2         0.000000       0.052632        0.98\n",
              "3         0.000000       0.105263        0.97\n",
              "4         0.000000       0.210526        0.96\n",
              "5         0.000000       0.263158        0.93\n",
              "6         0.000000       0.368421        0.91\n",
              "7         0.000000       0.500000        0.82\n",
              "8         0.021277       0.500000        0.81\n",
              "9         0.021277       0.526316        0.80\n",
              "10        0.042553       0.526316        0.79\n",
              "11        0.042553       0.552632        0.76\n",
              "12        0.042553       0.605263        0.74\n",
              "13        0.042553       0.631579        0.73\n",
              "14        0.042553       0.736842        0.70\n",
              "15        0.042553       0.868421        0.59\n",
              "16        0.063830       0.868421        0.58\n",
              "17        0.063830       0.894737        0.57\n",
              "18        0.234043       0.894737        0.43\n",
              "19        0.276596       0.894737        0.41\n",
              "20        0.319149       0.947368        0.36\n",
              "21        0.382979       0.947368        0.31\n",
              "22        0.382979       0.973684        0.29\n",
              "23        0.425532       0.973684        0.28\n",
              "24        0.489362       0.973684        0.22\n",
              "25        0.489362       1.000000        0.21\n",
              "26        0.531915       1.000000        0.18\n",
              "27        0.595745       1.000000        0.17\n",
              "28        0.723404       1.000000        0.10\n",
              "29        0.765957       1.000000        0.09\n",
              "30        0.808511       1.000000        0.07\n",
              "31        0.851064       1.000000        0.06\n",
              "32        0.872340       1.000000        0.04\n",
              "33        0.936170       1.000000        0.02\n",
              "34        0.957447       1.000000        0.01\n",
              "35        1.000000       1.000000        0.00"
            ],
            "text/html": [
              "\n",
              "  <div id=\"df-8e3ade1e-1448-4467-bcb9-0ea6020bfd27\">\n",
              "    <div class=\"colab-df-container\">\n",
              "      <div>\n",
              "<style scoped>\n",
              "    .dataframe tbody tr th:only-of-type {\n",
              "        vertical-align: middle;\n",
              "    }\n",
              "\n",
              "    .dataframe tbody tr th {\n",
              "        vertical-align: top;\n",
              "    }\n",
              "\n",
              "    .dataframe thead th {\n",
              "        text-align: right;\n",
              "    }\n",
              "</style>\n",
              "<table border=\"1\" class=\"dataframe\">\n",
              "  <thead>\n",
              "    <tr style=\"text-align: right;\">\n",
              "      <th></th>\n",
              "      <th>false_pos_rate</th>\n",
              "      <th>true_pos_rate</th>\n",
              "      <th>thresholds</th>\n",
              "    </tr>\n",
              "  </thead>\n",
              "  <tbody>\n",
              "    <tr>\n",
              "      <th>0</th>\n",
              "      <td>0.000000</td>\n",
              "      <td>0.000000</td>\n",
              "      <td>2.00</td>\n",
              "    </tr>\n",
              "    <tr>\n",
              "      <th>1</th>\n",
              "      <td>0.000000</td>\n",
              "      <td>0.026316</td>\n",
              "      <td>1.00</td>\n",
              "    </tr>\n",
              "    <tr>\n",
              "      <th>2</th>\n",
              "      <td>0.000000</td>\n",
              "      <td>0.052632</td>\n",
              "      <td>0.98</td>\n",
              "    </tr>\n",
              "    <tr>\n",
              "      <th>3</th>\n",
              "      <td>0.000000</td>\n",
              "      <td>0.105263</td>\n",
              "      <td>0.97</td>\n",
              "    </tr>\n",
              "    <tr>\n",
              "      <th>4</th>\n",
              "      <td>0.000000</td>\n",
              "      <td>0.210526</td>\n",
              "      <td>0.96</td>\n",
              "    </tr>\n",
              "    <tr>\n",
              "      <th>5</th>\n",
              "      <td>0.000000</td>\n",
              "      <td>0.263158</td>\n",
              "      <td>0.93</td>\n",
              "    </tr>\n",
              "    <tr>\n",
              "      <th>6</th>\n",
              "      <td>0.000000</td>\n",
              "      <td>0.368421</td>\n",
              "      <td>0.91</td>\n",
              "    </tr>\n",
              "    <tr>\n",
              "      <th>7</th>\n",
              "      <td>0.000000</td>\n",
              "      <td>0.500000</td>\n",
              "      <td>0.82</td>\n",
              "    </tr>\n",
              "    <tr>\n",
              "      <th>8</th>\n",
              "      <td>0.021277</td>\n",
              "      <td>0.500000</td>\n",
              "      <td>0.81</td>\n",
              "    </tr>\n",
              "    <tr>\n",
              "      <th>9</th>\n",
              "      <td>0.021277</td>\n",
              "      <td>0.526316</td>\n",
              "      <td>0.80</td>\n",
              "    </tr>\n",
              "    <tr>\n",
              "      <th>10</th>\n",
              "      <td>0.042553</td>\n",
              "      <td>0.526316</td>\n",
              "      <td>0.79</td>\n",
              "    </tr>\n",
              "    <tr>\n",
              "      <th>11</th>\n",
              "      <td>0.042553</td>\n",
              "      <td>0.552632</td>\n",
              "      <td>0.76</td>\n",
              "    </tr>\n",
              "    <tr>\n",
              "      <th>12</th>\n",
              "      <td>0.042553</td>\n",
              "      <td>0.605263</td>\n",
              "      <td>0.74</td>\n",
              "    </tr>\n",
              "    <tr>\n",
              "      <th>13</th>\n",
              "      <td>0.042553</td>\n",
              "      <td>0.631579</td>\n",
              "      <td>0.73</td>\n",
              "    </tr>\n",
              "    <tr>\n",
              "      <th>14</th>\n",
              "      <td>0.042553</td>\n",
              "      <td>0.736842</td>\n",
              "      <td>0.70</td>\n",
              "    </tr>\n",
              "    <tr>\n",
              "      <th>15</th>\n",
              "      <td>0.042553</td>\n",
              "      <td>0.868421</td>\n",
              "      <td>0.59</td>\n",
              "    </tr>\n",
              "    <tr>\n",
              "      <th>16</th>\n",
              "      <td>0.063830</td>\n",
              "      <td>0.868421</td>\n",
              "      <td>0.58</td>\n",
              "    </tr>\n",
              "    <tr>\n",
              "      <th>17</th>\n",
              "      <td>0.063830</td>\n",
              "      <td>0.894737</td>\n",
              "      <td>0.57</td>\n",
              "    </tr>\n",
              "    <tr>\n",
              "      <th>18</th>\n",
              "      <td>0.234043</td>\n",
              "      <td>0.894737</td>\n",
              "      <td>0.43</td>\n",
              "    </tr>\n",
              "    <tr>\n",
              "      <th>19</th>\n",
              "      <td>0.276596</td>\n",
              "      <td>0.894737</td>\n",
              "      <td>0.41</td>\n",
              "    </tr>\n",
              "    <tr>\n",
              "      <th>20</th>\n",
              "      <td>0.319149</td>\n",
              "      <td>0.947368</td>\n",
              "      <td>0.36</td>\n",
              "    </tr>\n",
              "    <tr>\n",
              "      <th>21</th>\n",
              "      <td>0.382979</td>\n",
              "      <td>0.947368</td>\n",
              "      <td>0.31</td>\n",
              "    </tr>\n",
              "    <tr>\n",
              "      <th>22</th>\n",
              "      <td>0.382979</td>\n",
              "      <td>0.973684</td>\n",
              "      <td>0.29</td>\n",
              "    </tr>\n",
              "    <tr>\n",
              "      <th>23</th>\n",
              "      <td>0.425532</td>\n",
              "      <td>0.973684</td>\n",
              "      <td>0.28</td>\n",
              "    </tr>\n",
              "    <tr>\n",
              "      <th>24</th>\n",
              "      <td>0.489362</td>\n",
              "      <td>0.973684</td>\n",
              "      <td>0.22</td>\n",
              "    </tr>\n",
              "    <tr>\n",
              "      <th>25</th>\n",
              "      <td>0.489362</td>\n",
              "      <td>1.000000</td>\n",
              "      <td>0.21</td>\n",
              "    </tr>\n",
              "    <tr>\n",
              "      <th>26</th>\n",
              "      <td>0.531915</td>\n",
              "      <td>1.000000</td>\n",
              "      <td>0.18</td>\n",
              "    </tr>\n",
              "    <tr>\n",
              "      <th>27</th>\n",
              "      <td>0.595745</td>\n",
              "      <td>1.000000</td>\n",
              "      <td>0.17</td>\n",
              "    </tr>\n",
              "    <tr>\n",
              "      <th>28</th>\n",
              "      <td>0.723404</td>\n",
              "      <td>1.000000</td>\n",
              "      <td>0.10</td>\n",
              "    </tr>\n",
              "    <tr>\n",
              "      <th>29</th>\n",
              "      <td>0.765957</td>\n",
              "      <td>1.000000</td>\n",
              "      <td>0.09</td>\n",
              "    </tr>\n",
              "    <tr>\n",
              "      <th>30</th>\n",
              "      <td>0.808511</td>\n",
              "      <td>1.000000</td>\n",
              "      <td>0.07</td>\n",
              "    </tr>\n",
              "    <tr>\n",
              "      <th>31</th>\n",
              "      <td>0.851064</td>\n",
              "      <td>1.000000</td>\n",
              "      <td>0.06</td>\n",
              "    </tr>\n",
              "    <tr>\n",
              "      <th>32</th>\n",
              "      <td>0.872340</td>\n",
              "      <td>1.000000</td>\n",
              "      <td>0.04</td>\n",
              "    </tr>\n",
              "    <tr>\n",
              "      <th>33</th>\n",
              "      <td>0.936170</td>\n",
              "      <td>1.000000</td>\n",
              "      <td>0.02</td>\n",
              "    </tr>\n",
              "    <tr>\n",
              "      <th>34</th>\n",
              "      <td>0.957447</td>\n",
              "      <td>1.000000</td>\n",
              "      <td>0.01</td>\n",
              "    </tr>\n",
              "    <tr>\n",
              "      <th>35</th>\n",
              "      <td>1.000000</td>\n",
              "      <td>1.000000</td>\n",
              "      <td>0.00</td>\n",
              "    </tr>\n",
              "  </tbody>\n",
              "</table>\n",
              "</div>\n",
              "      <button class=\"colab-df-convert\" onclick=\"convertToInteractive('df-8e3ade1e-1448-4467-bcb9-0ea6020bfd27')\"\n",
              "              title=\"Convert this dataframe to an interactive table.\"\n",
              "              style=\"display:none;\">\n",
              "        \n",
              "  <svg xmlns=\"http://www.w3.org/2000/svg\" height=\"24px\"viewBox=\"0 0 24 24\"\n",
              "       width=\"24px\">\n",
              "    <path d=\"M0 0h24v24H0V0z\" fill=\"none\"/>\n",
              "    <path d=\"M18.56 5.44l.94 2.06.94-2.06 2.06-.94-2.06-.94-.94-2.06-.94 2.06-2.06.94zm-11 1L8.5 8.5l.94-2.06 2.06-.94-2.06-.94L8.5 2.5l-.94 2.06-2.06.94zm10 10l.94 2.06.94-2.06 2.06-.94-2.06-.94-.94-2.06-.94 2.06-2.06.94z\"/><path d=\"M17.41 7.96l-1.37-1.37c-.4-.4-.92-.59-1.43-.59-.52 0-1.04.2-1.43.59L10.3 9.45l-7.72 7.72c-.78.78-.78 2.05 0 2.83L4 21.41c.39.39.9.59 1.41.59.51 0 1.02-.2 1.41-.59l7.78-7.78 2.81-2.81c.8-.78.8-2.07 0-2.86zM5.41 20L4 18.59l7.72-7.72 1.47 1.35L5.41 20z\"/>\n",
              "  </svg>\n",
              "      </button>\n",
              "      \n",
              "  <style>\n",
              "    .colab-df-container {\n",
              "      display:flex;\n",
              "      flex-wrap:wrap;\n",
              "      gap: 12px;\n",
              "    }\n",
              "\n",
              "    .colab-df-convert {\n",
              "      background-color: #E8F0FE;\n",
              "      border: none;\n",
              "      border-radius: 50%;\n",
              "      cursor: pointer;\n",
              "      display: none;\n",
              "      fill: #1967D2;\n",
              "      height: 32px;\n",
              "      padding: 0 0 0 0;\n",
              "      width: 32px;\n",
              "    }\n",
              "\n",
              "    .colab-df-convert:hover {\n",
              "      background-color: #E2EBFA;\n",
              "      box-shadow: 0px 1px 2px rgba(60, 64, 67, 0.3), 0px 1px 3px 1px rgba(60, 64, 67, 0.15);\n",
              "      fill: #174EA6;\n",
              "    }\n",
              "\n",
              "    [theme=dark] .colab-df-convert {\n",
              "      background-color: #3B4455;\n",
              "      fill: #D2E3FC;\n",
              "    }\n",
              "\n",
              "    [theme=dark] .colab-df-convert:hover {\n",
              "      background-color: #434B5C;\n",
              "      box-shadow: 0px 1px 3px 1px rgba(0, 0, 0, 0.15);\n",
              "      filter: drop-shadow(0px 1px 2px rgba(0, 0, 0, 0.3));\n",
              "      fill: #FFFFFF;\n",
              "    }\n",
              "  </style>\n",
              "\n",
              "      <script>\n",
              "        const buttonEl =\n",
              "          document.querySelector('#df-8e3ade1e-1448-4467-bcb9-0ea6020bfd27 button.colab-df-convert');\n",
              "        buttonEl.style.display =\n",
              "          google.colab.kernel.accessAllowed ? 'block' : 'none';\n",
              "\n",
              "        async function convertToInteractive(key) {\n",
              "          const element = document.querySelector('#df-8e3ade1e-1448-4467-bcb9-0ea6020bfd27');\n",
              "          const dataTable =\n",
              "            await google.colab.kernel.invokeFunction('convertToInteractive',\n",
              "                                                     [key], {});\n",
              "          if (!dataTable) return;\n",
              "\n",
              "          const docLinkHtml = 'Like what you see? Visit the ' +\n",
              "            '<a target=\"_blank\" href=https://colab.research.google.com/notebooks/data_table.ipynb>data table notebook</a>'\n",
              "            + ' to learn more about interactive tables.';\n",
              "          element.innerHTML = '';\n",
              "          dataTable['output_type'] = 'display_data';\n",
              "          await google.colab.output.renderOutput(dataTable, element);\n",
              "          const docLink = document.createElement('div');\n",
              "          docLink.innerHTML = docLinkHtml;\n",
              "          element.appendChild(docLink);\n",
              "        }\n",
              "      </script>\n",
              "    </div>\n",
              "  </div>\n",
              "  "
            ]
          },
          "metadata": {},
          "execution_count": 24
        }
      ]
    },
    {
      "cell_type": "markdown",
      "metadata": {
        "id": "tC6MqtN90A0x"
      },
      "source": [
        "## Demonstrating how changing the threshold (from roc-auc curve) changes the metrics"
      ]
    },
    {
      "cell_type": "code",
      "metadata": {
        "id": "FYGOfQF-yedm"
      },
      "source": [
        "y_pred_prob[y_pred_prob>= 0.60] = 1\n",
        "y_pred_prob[y_pred_prob < 0.60] = 0"
      ],
      "execution_count": 28,
      "outputs": []
    },
    {
      "cell_type": "code",
      "metadata": {
        "id": "A6Pitfgzy_iN",
        "outputId": "47e46b80-362e-4dca-a164-d98622ecfd4c",
        "colab": {
          "base_uri": "https://localhost:8080/"
        }
      },
      "source": [
        "from sklearn.metrics import accuracy_score\n",
        "print('Validation Accuracy (RF):', accuracy_score(y_val, y_pred_prob))"
      ],
      "execution_count": 29,
      "outputs": [
        {
          "output_type": "stream",
          "name": "stdout",
          "text": [
            "Validation Accuracy (RF): 0.8941176470588236\n"
          ]
        }
      ]
    },
    {
      "cell_type": "code",
      "metadata": {
        "id": "FFMmvFc4lZqc",
        "outputId": "a2863273-85e9-4049-9590-146b9d99554b",
        "colab": {
          "base_uri": "https://localhost:8080/",
          "height": 494
        }
      },
      "source": [
        "print(classification_report(y_val, model_rf.predict(X_val)))\n",
        "plot_confusion_matrix(model_rf, X_val, y_pred_prob); "
      ],
      "execution_count": 30,
      "outputs": [
        {
          "output_type": "stream",
          "name": "stdout",
          "text": [
            "              precision    recall  f1-score   support\n",
            "\n",
            "           0       0.91      0.87      0.89        47\n",
            "           1       0.85      0.89      0.87        38\n",
            "\n",
            "    accuracy                           0.88        85\n",
            "   macro avg       0.88      0.88      0.88        85\n",
            "weighted avg       0.88      0.88      0.88        85\n",
            "\n"
          ]
        },
        {
          "output_type": "stream",
          "name": "stderr",
          "text": [
            "/usr/local/lib/python3.8/dist-packages/sklearn/utils/deprecation.py:87: FutureWarning: Function plot_confusion_matrix is deprecated; Function `plot_confusion_matrix` is deprecated in 1.0 and will be removed in 1.2. Use one of the class methods: ConfusionMatrixDisplay.from_predictions or ConfusionMatrixDisplay.from_estimator.\n",
            "  warnings.warn(msg, category=FutureWarning)\n"
          ]
        },
        {
          "output_type": "display_data",
          "data": {
            "text/plain": [
              "<Figure size 432x288 with 2 Axes>"
            ],
            "image/png": "[encoded data removed]"
          },
          "metadata": {
            "needs_background": "light"
          }
        }
      ]
    },
    {
      "cell_type": "markdown",
      "metadata": {
        "id": "EklA_4VYP31G"
      },
      "source": [
        "## Regression Example\n",
        "\n",
        "What if we were predicting the cost of a burrito? \n"
      ]
    },
    {
      "cell_type": "code",
      "metadata": {
        "id": "tl7mWeTTp8L_"
      },
      "source": [
        "# target = 'Cost'\n",
        "# y = df[target]\n",
        "# X = df.drop(columns=target)"
      ],
      "execution_count": null,
      "outputs": []
    },
    {
      "cell_type": "code",
      "metadata": {
        "id": "Rn5ulfovTZJN"
      },
      "source": [
        "# df['Cost'].hist(bins=20) # to check for target skewness"
      ],
      "execution_count": null,
      "outputs": []
    },
    {
      "cell_type": "code",
      "metadata": {
        "id": "lpHSPMQzQWPC"
      },
      "source": [
        "# Radomized Train Test Split \n",
        "# from sklearn.model_selection import train_test_split\n",
        "# X_train, X_val, y_train, y_val = train_test_split(X, y, test_size=0.33, random_state=42)"
      ],
      "execution_count": null,
      "outputs": []
    },
    {
      "cell_type": "code",
      "source": [
        "# from sklearn.metrics import mean_absolute_error\n",
        "# baseline_pred = [y_val.mean()] * len(y_val)\n",
        "# mean_absolute_error(y_val, baseline_pred)"
      ],
      "metadata": {
        "id": "5ZJ-dAk9XgBg"
      },
      "execution_count": null,
      "outputs": []
    },
    {
      "cell_type": "code",
      "metadata": {
        "id": "FLYuAc8tQdzB"
      },
      "source": [
        "\n",
        "# model_lr = make_pipeline(SimpleImputer(), \n",
        "#                       StandardScaler(), \n",
        "#                       LinearRegression())\n",
        "\n",
        "# model_lr.fit(X_train, y_train)"
      ],
      "execution_count": null,
      "outputs": []
    },
    {
      "cell_type": "code",
      "metadata": {
        "id": "5nfkcZKqSYEq"
      },
      "source": [
        "\n",
        "# model_rf = make_pipeline(SimpleImputer(),  \n",
        "#                       RandomForestRegressor())\n",
        "\n",
        "# model_rf.fit(X_train, y_train)"
      ],
      "execution_count": null,
      "outputs": []
    },
    {
      "cell_type": "code",
      "metadata": {
        "id": "fC8GHIe4SYmd"
      },
      "source": [
        "# print(\"Training Accuracy - Linear Regression\", mean_absolute_error(y_train, model_lr.predict(X_train)))\n",
        "# print(\"Validation Accuracy - Linear Regression\", mean_absolute_error(y_val, model_lr.predict(X_val)))"
      ],
      "execution_count": null,
      "outputs": []
    },
    {
      "cell_type": "code",
      "metadata": {
        "id": "z9czTvuKS5Hs"
      },
      "source": [
        "# print(\"Training Accuracy - Random Forest\", mean_absolute_error(y_train, model_rf.predict(X_train)))\n",
        "# print(\"Validation Accuracy - Random Forest\", mean_absolute_error(y_val, model_rf.predict(X_val)))"
      ],
      "execution_count": null,
      "outputs": []
    },
    {
      "cell_type": "markdown",
      "source": [
        "# Log Transformation of skewed Target (for regression)"
      ],
      "metadata": {
        "id": "YhRJzCrYVxmw"
      }
    },
    {
      "cell_type": "code",
      "source": [
        "# The chosen target for the above example (burrito cost) is not skewed. But if your regression target is skewed, then you should log transform it, using the following steps:\n",
        "\n",
        "# log transform your target (training set)\n",
        "# y_train_log = np.log1p(y_train)\n",
        "\n",
        "# fit your chosen model to this log tranformed target\n",
        "# model.fit(X_train, y_train_log)\n",
        "\n",
        "# get your predictions for this log tranformed target\n",
        "# y_pred_log = model.predict(X_val)\n",
        "\n",
        "# reverse log tranform your log tranformed target\n",
        "# y_pred = np.expm1(y_pred_log)\n",
        "\n",
        "# check your metrics\n",
        "# print(mean_absolute_error(y_val, y_pred))\n"
      ],
      "metadata": {
        "id": "yyGNUcC9N0cO"
      },
      "execution_count": null,
      "outputs": []
    },
    {
      "cell_type": "markdown",
      "source": [
        "# Sampling of imbalance data (using .sample function)"
      ],
      "metadata": {
        "id": "b78kDMWtWJZC"
      }
    },
    {
      "cell_type": "markdown",
      "source": [
        "This is just one way to over or under sample. Go over these links and read how to implement SMOTE(Synthetic Minority Oversampling Technique) technique too, where you create synthetic observations of the minority class! \n",
        "\n",
        "* https://imbalanced-learn.org/dev/references/generated/imblearn.over_sampling.SMOTE.html\n",
        "* https://www.section.io/engineering-education/imbalanced-data-in-ml/"
      ],
      "metadata": {
        "id": "E8joZRzE4EWW"
      }
    },
    {
      "cell_type": "code",
      "metadata": {
        "id": "jWkWFeDxWNoJ"
      },
      "source": [
        "# # Sampling of imbalance data (using .sample function)\n",
        "\n",
        "# # If train_minority contains only those rows in your training dataset that correspond to minority class, you can oversample like this.\n",
        "# # When you over sample your minority class, you always have to sample with replacement\n",
        "\n",
        "# num_minority_samples = 10 # number of additional minority class rows to create. \n",
        "# train_minority_sample = train_minority.sample(num_minority_samples,replace = True)\n",
        "\n",
        "\n",
        "# # If train_majority contains only those rows in your dataset that correspond to majority class, you can undersample like this.\n",
        "# # Under sampling doesnt need with replacement\n",
        "# num_majority_samples = 10 # number of majority class rows to remove.\n",
        "# train_majority_sample = train_majority.sample(num_majority_samples,replace=False)\n",
        "\n",
        "# # You can then append the two dataframes to form a final train df. \n",
        "# train_final = train_minority_sample.append(train_majority_sample, ignore_index=True)"
      ],
      "execution_count": null,
      "outputs": []
    }
  ]
}